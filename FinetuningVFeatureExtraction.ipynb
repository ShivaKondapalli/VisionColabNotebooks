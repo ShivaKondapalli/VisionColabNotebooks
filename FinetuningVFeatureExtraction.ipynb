{
 "cells": [
  {
   "cell_type": "markdown",
   "metadata": {
    "id": "view-in-github",
    "colab_type": "text"
   },
   "source": [
    "<a href=\"https://colab.research.google.com/github/ShivaKondapalli/Invariance/blob/master/FinetuningVFeatureExtraction.ipynb\" target=\"_parent\"><img src=\"https://colab.research.google.com/assets/colab-badge.svg\" alt=\"Open In Colab\"/></a>"
   ]
  },
  {
   "cell_type": "code",
   "execution_count": 3,
   "metadata": {
    "id": "4_4t-Dpi2rJx",
    "colab_type": "code",
    "outputId": "8e10d6e0-66ca-4fbb-c1d8-b29e0ea7a3a5",
    "colab": {
     "base_uri": "https://localhost:8080/",
     "height": 34.0
    }
   },
   "outputs": [
    {
     "data": {
      "text/plain": [
       "<torch._C.Generator at 0x7f2f848ce210>"
      ]
     },
     "execution_count": 3,
     "metadata": {
      "tags": []
     },
     "output_type": "execute_result"
    }
   ],
   "source": [
    "import time\n",
    "import torch\n",
    "import matplotlib.pyplot as plt\n",
    "from torchvision import models, datasets, transforms\n",
    "from torch import optim \n",
    "import torch.nn as nn\n",
    "import copy\n",
    "import numpy as np\n",
    "import zipfile\n",
    "# import visdom\n",
    "torch.manual_seed(3)"
   ]
  },
  {
   "cell_type": "code",
   "execution_count": 4,
   "metadata": {
    "id": "xqRaYnfxm3B6",
    "colab_type": "code",
    "outputId": "edd98e7a-b093-45c0-84ad-ad565a07cc40",
    "colab": {
     "base_uri": "https://localhost:8080/",
     "height": 34.0
    }
   },
   "outputs": [
    {
     "name": "stdout",
     "output_type": "stream",
     "text": [
      "The power of the GPU is with you!\n"
     ]
    }
   ],
   "source": [
    "if torch.cuda.is_available():\n",
    "  print('The power of the GPU is with you!')\n",
    "else:\n",
    "  print('run for eternity on the CPU')"
   ]
  },
  {
   "cell_type": "code",
   "execution_count": 5,
   "metadata": {
    "id": "lvBWVNWqFlbz",
    "colab_type": "code",
    "outputId": "bbb132c0-8e09-4692-ec85-82c2144c89d5",
    "colab": {
     "base_uri": "https://localhost:8080/",
     "height": 51.0
    }
   },
   "outputs": [
    {
     "name": "stderr",
     "output_type": "stream",
     "text": [
      "\r0it [00:00, ?it/s]"
     ]
    },
    {
     "name": "stdout",
     "output_type": "stream",
     "text": [
      "Downloading https://www.cs.toronto.edu/~kriz/cifar-10-python.tar.gz to /.data/cifar-10-python.tar.gz\n"
     ]
    },
    {
     "name": "stderr",
     "output_type": "stream",
     "text": [
      "100%|█████████▉| 170156032/170498071 [00:49<00:00, 4163409.62it/s]"
     ]
    },
    {
     "name": "stdout",
     "output_type": "stream",
     "text": [
      "Files already downloaded and verified\n"
     ]
    }
   ],
   "source": [
    "# list of models to choose from \n",
    "\n",
    "Models = ['resnet', 'alexnet', 'densenet', 'squeezenet', 'inception', 'vgg']\n",
    "Models\n",
    "\n",
    "num_epochs = 15\n",
    "model_name = 'squeezenet'\n",
    "num_classes = 10\n",
    "feature_extract=True\n",
    "\n",
    "  \n",
    "# datasets, data trasnforms and dataloaders\n",
    "data_transforms = {\n",
    "        'train': transforms.Compose([\n",
    "            transforms.RandomRotation(45),\n",
    "            transforms.RandomResizedCrop(224),\n",
    "            transforms.RandomHorizontalFlip(),\n",
    "            transforms.ToTensor(),\n",
    "            transforms.Normalize([0.485, 0.456, 0.406],\n",
    "                                 [0.229, 0.224, 0.225])\n",
    "        ]),\n",
    "        'valid': transforms.Compose([\n",
    "            transforms.Resize(256),\n",
    "            transforms.CenterCrop(224),\n",
    "            transforms.ToTensor(),\n",
    "            transforms.Normalize([0.485, 0.456, 0.406],\n",
    "                                 [0.229, 0.224, 0.225])])\n",
    "}\n",
    "\n",
    "trainset = datasets.CIFAR10(root='/.data', download=True, train=True, transform=data_transforms['train'])\n",
    "\n",
    "validset = datasets.CIFAR10(root='/.data', download=True, train=False, transform=data_transforms['valid'])\n",
    "\n",
    "datasets_dict = {'train': trainset, 'valid': validset}\n",
    "dataloaders_dict = {x: torch.utils.data.DataLoader(datasets_dict[x], batch_size=100, shuffle=True) for x in\n",
    "                    ['train', 'valid']}\n",
    "dataset_size = {x: len(dataloaders_dict[x].dataset) for x in ['train', 'valid']}"
   ]
  },
  {
   "cell_type": "code",
   "execution_count": 0,
   "metadata": {
    "id": "fLIDZ-xCFefi",
    "colab_type": "code",
    "colab": {}
   },
   "outputs": [],
   "source": [
    "def train_model(model, dataloaders, optimizer, criterion, num_epochs, is_inception, device='cuda'):\n",
    "  \n",
    "    \"\"\"trains model and retunrs model state_dict and loss and accuracy for train and validation\"\"\"\n",
    "\n",
    "    start = time.time()\n",
    "\n",
    "    # train loss and accuracy\n",
    "    train_loss_history = []\n",
    "    train_acc_history = []\n",
    "\n",
    "    # valdiation loss and accuracy\n",
    "    val_loss_history = []\n",
    "    val_acc_history = []\n",
    "\n",
    "    best_acc = 0.0\n",
    "    best_model_wts = copy.deepcopy(model.state_dict())\n",
    "\n",
    "    for epoch in range(num_epochs):\n",
    "\n",
    "        print(f'Epoch {epoch+1}/{num_epochs}')\n",
    "        print(f'=='*20)\n",
    "\n",
    "        for phase in ['train', 'valid']:\n",
    "            if phase == 'train':\n",
    "                model.train()\n",
    "            else:\n",
    "                model.eval()\n",
    "\n",
    "            running_loss = 0.0\n",
    "            running_corrects = 0.0\n",
    "\n",
    "            for inputs, labels in dataloaders[phase]:\n",
    "\n",
    "                inputs, labels = inputs.to(device), labels.to(device)\n",
    "\n",
    "                optimizer.zero_grad()\n",
    "\n",
    "                with torch.set_grad_enabled(phase == 'train'):\n",
    "\n",
    "                    if is_inception and phase == 'train':\n",
    "                        outputs, aux_outputs = model.forward(inputs)\n",
    "                        loss1 = criterion(outputs, labels)\n",
    "                        loss2 =criterion(aux_outputs, labels)\n",
    "                        loss = loss1 + 0.4 * loss2\n",
    "\n",
    "                    else:\n",
    "                        outputs = model.forward(inputs)\n",
    "                        loss = criterion(outputs, labels)\n",
    "\n",
    "                    _, preds = outputs.max(dim=1)\n",
    "\n",
    "                    if phase == 'train':\n",
    "                        loss.backward()\n",
    "                        optimizer.step()\n",
    "\n",
    "                running_loss += loss.item() * inputs.size(0)\n",
    "                running_corrects += torch.sum(preds == labels)\n",
    "\n",
    "            epoch_loss = running_loss/dataset_size[phase]\n",
    "            epoch_acc = running_corrects.double()/dataset_size[phase]\n",
    "\n",
    "            print(\"{} Loss: {} Acc: {}\".format(phase, epoch_loss, epoch_acc))\n",
    "\n",
    "            if phase == 'valid' and epoch_acc > best_acc:\n",
    "                best_acc = epoch_acc\n",
    "                best_model_wts = copy.deepcopy(model.state_dict())\n",
    "\n",
    "            if phase == 'train':\n",
    "                train_loss_history.append(epoch_loss)\n",
    "                train_acc_history.append(epoch_acc.item())\n",
    "            elif phase == 'valid':\n",
    "                val_loss_history.append(epoch_loss)\n",
    "                val_acc_history.append(epoch_acc.item())\n",
    "\n",
    "    time_elapsed = time.time() - start\n",
    "    print('Time taken to train {:.0f}m {:0f}s'.format(time_elapsed//60, time_elapsed % 60))\n",
    "    print('best val acc:'.format(best_acc))\n",
    "    model.load_state_dict(best_model_wts)\n",
    "\n",
    "    return best_model_wts, train_loss_history, val_loss_history, train_acc_history, val_acc_history"
   ]
  },
  {
   "cell_type": "code",
   "execution_count": 7,
   "metadata": {
    "id": "qEd5Q9xzDqJt",
    "colab_type": "code",
    "outputId": "6f4d7093-a9d4-41f4-fbff-58b1f93828bc",
    "colab": {
     "base_uri": "https://localhost:8080/",
     "height": 136.0
    }
   },
   "outputs": [
    {
     "name": "stderr",
     "output_type": "stream",
     "text": [
      "Downloading: \"https://download.pytorch.org/models/squeezenet1_0-a815701f.pth\" to /root/.torch/models/squeezenet1_0-a815701f.pth\n",
      "\n",
      "0it [00:00, ?it/s]\u001b[A\n",
      "2981888it [00:00, 29813719.49it/s]\u001b[A\n",
      "5017600it [00:00, 28861098.35it/s]\u001b[A"
     ]
    },
    {
     "name": "stdout",
     "output_type": "stream",
     "text": [
      "Params to learn:\n",
      "\t classifier.1.weight\n",
      "\t classifier.1.bias\n"
     ]
    }
   ],
   "source": [
    "# keep the in_features of the fc layer the same as the original pre-trained model but change the num_of_classes according to the classes of the dataset bneing used.\n",
    "\n",
    "def set_parameters_grad(model, feature_extracting):\n",
    "  if feature_extracting:\n",
    "    for param in model.parameters():\n",
    "      param.requires_grad = False\n",
    "\n",
    "def initialize_model(model_name, num_classes, feature_extract, use_pretrained=True):\n",
    "  \n",
    "  model_ft= None\n",
    "  input_size = 0\n",
    "  \n",
    "  if model_name == 'resnet':\n",
    "    \"\"\"Resent34\"\"\"\n",
    "    \n",
    "    model_ft= models.resent34(pretrained=use_pretrained)\n",
    "    set_parameters_grad(model_ft, feature_extract)\n",
    "    num_features = model_ft.fc.in_features\n",
    "    model_ft.fc = nn.Linear(num_features, num_classes)\n",
    "    input_size = 224\n",
    "    \n",
    "  elif model_name == 'vgg':\n",
    "    \n",
    "    \"\"\"vgg11_bn\"\"\"\n",
    "    \n",
    "    model_ft = models.vgg11_bn(pretrained=use_pretrained)\n",
    "    set_parameters_grad(model_ft, feature_extract)\n",
    "    num_features = modelf_ft.classifier[6].in_features\n",
    "    model_ft.classifier[6] = nn.Linear(num_features, num_classes)\n",
    "    input_size = 224\n",
    "    \n",
    "  elif  model_name == 'alexnet':\n",
    "    \"\"\"Alexnet\"\"\"\n",
    "    \n",
    "    model_ft = models.alexnet(pretrained=use_pretrained)\n",
    "    set_parameters_grad(model_ft, feature_extract)\n",
    "    num_features = modelf_ft.classifier[6].in_features\n",
    "    model_ft.classifier[6] = nn.Linear(num_features, num_classes)\n",
    "    input_size = 224\n",
    "    \n",
    "  elif model_name == 'squeezenet':\n",
    "    \"\"\"Squeezenet\"\"\"\n",
    "    \n",
    "    model_ft = models.squeezenet1_0(pretrained=use_pretrained)\n",
    "    set_parameters_grad(model_ft, feature_extract)\n",
    "    model_ft.classifier[1] = nn.Conv2d(512, num_classes, kernel_size=(1, 1), stride=(1, 1))\n",
    "    model_ft.num_classes = num_classes\n",
    "    input_size = 224\n",
    "    \n",
    "  elif model_name == 'densenet':\n",
    "    \n",
    "    \"\"\"Densenet\"\"\"\n",
    "    \n",
    "    model_ft = models.densenet121(pretrained=use_pretrained)\n",
    "    set_parameters_grad(model_ft, feature_extract)\n",
    "    num_features = model_ft.classifier.in_features\n",
    "    model_ft.classifier = nn.Linear(num_features, num_classes)\n",
    "    input_size = 224\n",
    "    \n",
    "    \n",
    "  elif model_name  == 'inception':\n",
    "    \"\"\"Inception v 3\"\"\"\n",
    "    \n",
    "    model_ft  = models.inception_v3(pretrained = use_trained)\n",
    "    set_parameters_grad(model_ft, feature_extract)\n",
    "    aux_features = moel_ft.AuxLogits.fc.in_features \n",
    "    model_ft.AuxLogits.fc = nn.Linear(aux_features, num_classes)\n",
    "    num_features = model_ft.fc.in_feautres\n",
    "    model_ft.fc = nn.Linear(num_features, num_classes)\n",
    "    input_size= 229\n",
    "    \n",
    "  else:\n",
    "    print(\"Invalid model name, exiting...\")\n",
    "    exit()\n",
    "\n",
    "  return model_ft, input_size\n",
    "\n",
    "# Calling initialize model\n",
    "model_ft, input_size = initialize_model(model_name, num_classes, feature_extract, use_pretrained=True)\n",
    "\n",
    "model_ft.to('cuda')\n",
    "\n",
    "\n",
    "\n",
    "params_to_update = model_ft.parameters()\n",
    "print(\"Params to learn:\")\n",
    "if feature_extract:\n",
    "    params_to_update = []\n",
    "    for name,param in model_ft.named_parameters():\n",
    "        if param.requires_grad == True:\n",
    "            params_to_update.append(param)\n",
    "            print(\"\\t\",name)\n",
    "else:\n",
    "    for name,param in model_ft.named_parameters():\n",
    "        if param.requires_grad == True:\n",
    "            print(\"\\t\",name)\n",
    "\n",
    "optimizer_ft = optim.SGD(params_to_update, lr=0.001, momentum=0.9)"
   ]
  },
  {
   "cell_type": "code",
   "execution_count": 8,
   "metadata": {
    "id": "-76kIcOyiug1",
    "colab_type": "code",
    "outputId": "b515da32-cfdd-46ee-d5d1-94822e4f0d0a",
    "colab": {
     "base_uri": "https://localhost:8080/",
     "height": 1411.0
    }
   },
   "outputs": [
    {
     "name": "stdout",
     "output_type": "stream",
     "text": [
      "Epoch 1/20\n",
      "========================================\n",
      "train Loss: 1.6602560007572174 Acc: 0.40064000000000005\n",
      "valid Loss: 1.088328607082367 Acc: 0.6301\n",
      "Epoch 2/20\n",
      "========================================\n",
      "train Loss: 1.447669602394104 Acc: 0.48310000000000003\n",
      "valid Loss: 0.9219164431095124 Acc: 0.6847000000000001\n",
      "Epoch 3/20\n",
      "========================================\n",
      "train Loss: 1.3938243036270141 Acc: 0.5020600000000001\n",
      "valid Loss: 0.8557472091913223 Acc: 0.7024\n",
      "Epoch 4/20\n",
      "========================================\n",
      "train Loss: 1.3716035406589508 Acc: 0.5118400000000001\n",
      "valid Loss: 0.8192527973651886 Acc: 0.7173\n",
      "Epoch 5/20\n",
      "========================================\n",
      "train Loss: 1.3624547047615052 Acc: 0.5142800000000001\n",
      "valid Loss: 0.7948238521814346 Acc: 0.7278\n",
      "Epoch 6/20\n",
      "========================================\n",
      "train Loss: 1.3453936002254485 Acc: 0.51814\n",
      "valid Loss: 0.7752675634622573 Acc: 0.73\n",
      "Epoch 7/20\n",
      "========================================\n",
      "train Loss: 1.3424471341371536 Acc: 0.52122\n",
      "valid Loss: 0.7632105588912964 Acc: 0.7346\n",
      "Epoch 8/20\n",
      "========================================\n",
      "train Loss: 1.3364711594581604 Acc: 0.5231600000000001\n",
      "valid Loss: 0.7657417732477189 Acc: 0.7345\n",
      "Epoch 9/20\n",
      "========================================\n",
      "train Loss: 1.3257850618362428 Acc: 0.5279200000000001\n",
      "valid Loss: 0.7692938357591629 Acc: 0.7288\n",
      "Epoch 10/20\n",
      "========================================\n",
      "train Loss: 1.3278165972232818 Acc: 0.52488\n",
      "valid Loss: 0.7564252144098282 Acc: 0.7304\n",
      "Epoch 11/20\n",
      "========================================\n",
      "train Loss: 1.3201360417604446 Acc: 0.529\n",
      "valid Loss: 0.7631202709674835 Acc: 0.736\n",
      "Epoch 12/20\n",
      "========================================\n",
      "train Loss: 1.31788552570343 Acc: 0.52802\n",
      "valid Loss: 0.7505309277772904 Acc: 0.7409\n",
      "Epoch 13/20\n",
      "========================================\n",
      "train Loss: 1.3067517161369324 Acc: 0.5340400000000001\n",
      "valid Loss: 0.753784501850605 Acc: 0.7345\n",
      "Epoch 14/20\n",
      "========================================\n",
      "train Loss: 1.3169978976249694 Acc: 0.52778\n",
      "valid Loss: 0.7588311195373535 Acc: 0.7366\n",
      "Epoch 15/20\n",
      "========================================\n",
      "train Loss: 1.3125669901371002 Acc: 0.5334000000000001\n",
      "valid Loss: 0.7328393864631653 Acc: 0.7456\n",
      "Epoch 16/20\n",
      "========================================\n",
      "train Loss: 1.3085756707191467 Acc: 0.5330600000000001\n",
      "valid Loss: 0.7471375522017479 Acc: 0.738\n",
      "Epoch 17/20\n",
      "========================================\n",
      "train Loss: 1.3094588613510132 Acc: 0.5333800000000001\n",
      "valid Loss: 0.7457811385393143 Acc: 0.7428\n",
      "Epoch 18/20\n",
      "========================================\n",
      "train Loss: 1.3112061874866485 Acc: 0.53152\n",
      "valid Loss: 0.7244897508621215 Acc: 0.7484000000000001\n",
      "Epoch 19/20\n",
      "========================================\n",
      "train Loss: 1.3089228200912475 Acc: 0.5321\n",
      "valid Loss: 0.7170775052905083 Acc: 0.7498\n",
      "Epoch 20/20\n",
      "========================================\n",
      "train Loss: 1.3058644286394119 Acc: 0.5329200000000001\n",
      "valid Loss: 0.765503061413765 Acc: 0.7301000000000001\n",
      "Time taken to train 112m 36.051514s\n",
      "best val acc:\n"
     ]
    }
   ],
   "source": [
    "# Call model\n",
    "\n",
    "criterion = nn.CrossEntropyLoss()\n",
    "model_ft, train_loss_history, val_loss_history, train_acc_history, val_acc_history = train_model(model_ft, dataloaders_dict, optimizer_ft, criterion, num_epochs=num_epochs, is_inception=(model_name==\"inception\"))"
   ]
  },
  {
   "cell_type": "code",
   "execution_count": 9,
   "metadata": {
    "id": "Zi0_zPPyqKhT",
    "colab_type": "code",
    "colab": {
     "base_uri": "https://localhost:8080/",
     "height": 735.0
    },
    "outputId": "6c652072-91a2-4572-cd96-ea77de1f601d"
   },
   "outputs": [
    {
     "data": {
      "image/png": "[encoded data removed]",
      "text/plain": [
       "<Figure size 576x396 with 1 Axes>"
      ]
     },
     "metadata": {
      "tags": []
     },
     "output_type": "display_data"
    },
    {
     "data": {
      "image/png": "[encoded data removed]",
      "text/plain": [
       "<Figure size 576x396 with 1 Axes>"
      ]
     },
     "metadata": {
      "tags": []
     },
     "output_type": "display_data"
    }
   ],
   "source": [
    "# Visualize train and validation losses\n",
    "def plot_train_val_loss(train_loss, val_loss):\n",
    "  plt.plot(train_loss, label='train Loss')\n",
    "  plt.plot(val_loss, label='validation loss')\n",
    "  plt.title('Train and Validation losses')\n",
    "  plt.xlabel('epochs')\n",
    "  plt.ylabel('Loss')\n",
    "  plt.legend()\n",
    "  plt.show()\n",
    "  \n",
    "# Visualize train_accuracy and validation accuracy\n",
    "def plot_train_val_acc(train_acc, val_acc):\n",
    "  plt.plot(train_acc, label='train accuracy')\n",
    "  plt.plot(val_acc, label='validation accuracy')\n",
    "  plt.title('Train and Validation accuracy')\n",
    "  plt.xlabel('epochs')\n",
    "  plt.ylabel('Loss')\n",
    "  plt.legend()\n",
    "  plt.show()\n",
    "  \n",
    "plot_train_val_loss(train_loss_history, val_loss_history)\n",
    "plot_train_val_acc(train_acc_history, val_acc_history)"
   ]
  }
 ],
 "metadata": {
  "colab": {
   "name": "FinetuningVFeatureExtraction",
   "version": "0.3.2",
   "provenance": [],
   "include_colab_link": true
  },
  "kernelspec": {
   "name": "python3",
   "display_name": "Python 3"
  },
  "accelerator": "GPU"
 },
 "nbformat": 4,
 "nbformat_minor": 0
}
