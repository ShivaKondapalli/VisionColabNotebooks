{
  "nbformat": 4,
  "nbformat_minor": 0,
  "metadata": {
    "colab": {
      "name": "FinetuningVFeatureExtraction",
      "version": "0.3.2",
      "provenance": [],
      "collapsed_sections": [],
      "toc_visible": true,
      "include_colab_link": true
    },
    "kernelspec": {
      "name": "python3",
      "display_name": "Python 3"
    },
    "accelerator": "GPU"
  },
  "cells": [
    {
      "cell_type": "markdown",
      "metadata": {
        "id": "view-in-github",
        "colab_type": "text"
      },
      "source": [
        "<a href=\"https://colab.research.google.com/github/ShivaKondapalli/VisionColabNotebooks/blob/master/FinetuningVFeatureExtraction.ipynb\" target=\"_parent\"><img src=\"https://colab.research.google.com/assets/colab-badge.svg\" alt=\"Open In Colab\"/></a>"
      ]
    },
    {
      "cell_type": "markdown",
      "metadata": {
        "id": "ApilelS0YHP9",
        "colab_type": "text"
      },
      "source": [
        "# Deep Learning for Computer VIsion - IV\n",
        "\n",
        "\n",
        "In this notebook, we compare **Feature Extraction** and **Fine Tuning** of various vision models. We will be using models used for the imagenet competition. \n",
        "\n",
        "## Feature Extraction vs FineTuning\n",
        "\n",
        "Both these methods of training our  model fall under the banner of *Transfer Learning*. in Feature extraction we aren't performing any gradient descent on the parameters, i.e. weights and biases of our convnet, only that of the final layer. \n",
        "\n",
        "In *Fine Tuning* we use initialize a pre-trained model trained on the Image net challenge, but use those weights as initializations to fine tune **all of our model parameters**.\n"
      ]
    },
    {
      "cell_type": "code",
      "metadata": {
        "id": "4_4t-Dpi2rJx",
        "colab_type": "code",
        "outputId": "42d3789c-8743-40d1-8ddd-79da83bc8fae",
        "colab": {
          "base_uri": "https://localhost:8080/",
          "height": 34
        }
      },
      "source": [
        "# All imports for our\n",
        "import time\n",
        "import torch\n",
        "import matplotlib.pyplot as plt\n",
        "from torchvision import models, datasets, transforms\n",
        "from torch import optim \n",
        "import torch.nn as nn\n",
        "import copy\n",
        "import numpy as np\n",
        "import zipfile\n",
        "# import visdom\n",
        "torch.manual_seed(3)"
      ],
      "execution_count": 11,
      "outputs": [
        {
          "output_type": "execute_result",
          "data": {
            "text/plain": [
              "<torch._C.Generator at 0x7f7429d106d0>"
            ]
          },
          "metadata": {
            "tags": []
          },
          "execution_count": 11
        }
      ]
    },
    {
      "cell_type": "code",
      "metadata": {
        "id": "xqRaYnfxm3B6",
        "colab_type": "code",
        "outputId": "eaed0dc0-cefa-4f0c-a30a-b6872ce397a6",
        "colab": {
          "base_uri": "https://localhost:8080/",
          "height": 34
        }
      },
      "source": [
        "if torch.cuda.is_available():\n",
        "  print('The power of the GPU is with you!')\n",
        "else:\n",
        "  print('run for eternity on the CPU')"
      ],
      "execution_count": 12,
      "outputs": [
        {
          "output_type": "stream",
          "text": [
            "The power of the GPU is with you!\n"
          ],
          "name": "stdout"
        }
      ]
    },
    {
      "cell_type": "markdown",
      "metadata": {
        "id": "Y-nKtI2nz3eB",
        "colab_type": "text"
      },
      "source": [
        "## Dataset \n",
        "\n",
        "The dataset we will be using is the CIFAR10: *Canadian Institute for Advanced Research* dataset, a famous dataset for Image Classification. \n",
        "\n",
        "The CIFAR-10 data consists of 60,000 32x32 color images in 10 classes. \n",
        "\n",
        "This is one of the inbuilt datasets in Pytorch. "
      ]
    },
    {
      "cell_type": "code",
      "metadata": {
        "id": "lvBWVNWqFlbz",
        "colab_type": "code",
        "outputId": "dccf1e1c-17ef-4143-a9aa-26643080a776",
        "colab": {
          "base_uri": "https://localhost:8080/",
          "height": 51
        }
      },
      "source": [
        "# list of models to choose from \n",
        "\n",
        "Models = ['resnet', 'alexnet', 'densenet', 'squeezenet', 'inception', 'vgg']\n",
        "Models\n",
        "\n",
        "# We set the model we want to run here.\n",
        "num_epochs = 15\n",
        "model_name = 'squeezenet'\n",
        "num_classes = 10\n",
        "feature_extract=True\n",
        "\n",
        "  \n",
        "# datasets, data trasnforms and dataloaders\n",
        "data_transforms = {\n",
        "        'train': transforms.Compose([\n",
        "            transforms.RandomRotation(45),\n",
        "            transforms.RandomResizedCrop(224),\n",
        "            transforms.RandomHorizontalFlip(),\n",
        "            transforms.ToTensor(),\n",
        "            transforms.Normalize([0.485, 0.456, 0.406],\n",
        "                                 [0.229, 0.224, 0.225])\n",
        "        ]),\n",
        "        'valid': transforms.Compose([\n",
        "            transforms.Resize(256),\n",
        "            transforms.CenterCrop(224),\n",
        "            transforms.ToTensor(),\n",
        "            transforms.Normalize([0.485, 0.456, 0.406],\n",
        "                                 [0.229, 0.224, 0.225])])\n",
        "}\n",
        "\n",
        "trainset = datasets.CIFAR10(root='/.data', download=True, train=True, transform=data_transforms['train'])\n",
        "\n",
        "validset = datasets.CIFAR10(root='/.data', download=True, train=False, transform=data_transforms['valid'])\n",
        "\n",
        "datasets_dict = {'train': trainset, 'valid': validset}\n",
        "dataloaders_dict = {x: torch.utils.data.DataLoader(datasets_dict[x], batch_size=100, shuffle=True) for x in\n",
        "                    ['train', 'valid']}\n",
        "dataset_size = {x: len(dataloaders_dict[x].dataset) for x in ['train', 'valid']}"
      ],
      "execution_count": 13,
      "outputs": [
        {
          "output_type": "stream",
          "text": [
            "Files already downloaded and verified\n",
            "Files already downloaded and verified\n"
          ],
          "name": "stdout"
        }
      ]
    },
    {
      "cell_type": "code",
      "metadata": {
        "id": "fLIDZ-xCFefi",
        "colab_type": "code",
        "colab": {}
      },
      "source": [
        "# We need to know if the model being passed is an inception model since the inception \n",
        "# model has auxilary losses. \n",
        "\n",
        "def train_model(model, dataloaders, optimizer, criterion, num_epochs, is_inception, device='cuda'):\n",
        "  \n",
        "    \"\"\"trains model and retunrs model state_dict and loss and accuracy for train and validation\"\"\"\n",
        "\n",
        "    start = time.time()\n",
        "\n",
        "    # train loss and accuracy\n",
        "    train_loss_history = []\n",
        "    train_acc_history = []\n",
        "\n",
        "    # valdiation loss and accuracy\n",
        "    val_loss_history = []\n",
        "    val_acc_history = []\n",
        "\n",
        "    best_acc = 0.0\n",
        "    best_model_wts = copy.deepcopy(model.state_dict())\n",
        "\n",
        "    for epoch in range(num_epochs):\n",
        "\n",
        "        print(f'Epoch {epoch+1}/{num_epochs}')\n",
        "        print(f'=='*20)\n",
        "\n",
        "        for phase in ['train', 'valid']:\n",
        "            if phase == 'train':\n",
        "                model.train()\n",
        "            else:\n",
        "                model.eval()\n",
        "\n",
        "            running_loss = 0.0\n",
        "            running_corrects = 0.0\n",
        "\n",
        "            for inputs, labels in dataloaders[phase]:\n",
        "\n",
        "                inputs, labels = inputs.to(device), labels.to(device)\n",
        "\n",
        "                optimizer.zero_grad()\n",
        "\n",
        "                with torch.set_grad_enabled(phase == 'train'):\n",
        "\n",
        "                    if is_inception and phase == 'train':\n",
        "                        outputs, aux_outputs = model.forward(inputs)\n",
        "                        loss1 = criterion(outputs, labels)\n",
        "                        loss2 =criterion(aux_outputs, labels)\n",
        "                        loss = loss1 + 0.4 * loss2\n",
        "\n",
        "                    else:\n",
        "                        outputs = model.forward(inputs)\n",
        "                        loss = criterion(outputs, labels)\n",
        "\n",
        "                    _, preds = outputs.max(dim=1)\n",
        "\n",
        "                    if phase == 'train':\n",
        "                        loss.backward()\n",
        "                        optimizer.step()\n",
        "\n",
        "                running_loss += loss.item() * inputs.size(0)\n",
        "                running_corrects += torch.sum(preds == labels)\n",
        "\n",
        "            epoch_loss = running_loss/dataset_size[phase]\n",
        "            epoch_acc = running_corrects.double()/dataset_size[phase]\n",
        "\n",
        "            print(\"{} Loss: {} Acc: {}\".format(phase, epoch_loss, epoch_acc))\n",
        "\n",
        "            if phase == 'valid' and epoch_acc > best_acc:\n",
        "                best_acc = epoch_acc\n",
        "                best_model_wts = copy.deepcopy(model.state_dict())\n",
        "\n",
        "            if phase == 'train':\n",
        "                train_loss_history.append(epoch_loss)\n",
        "                train_acc_history.append(epoch_acc.item())\n",
        "            elif phase == 'valid':\n",
        "                val_loss_history.append(epoch_loss)\n",
        "                val_acc_history.append(epoch_acc.item())\n",
        "\n",
        "    time_elapsed = time.time() - start\n",
        "    print('Time taken to train {:.0f}m {:0f}s'.format(time_elapsed//60, time_elapsed % 60))\n",
        "    print('best val acc:'.format(best_acc))\n",
        "    model.load_state_dict(best_model_wts)\n",
        "\n",
        "    return best_model_wts, train_loss_history, val_loss_history, train_acc_history, val_acc_history"
      ],
      "execution_count": 0,
      "outputs": []
    },
    {
      "cell_type": "code",
      "metadata": {
        "id": "qEd5Q9xzDqJt",
        "colab_type": "code",
        "outputId": "49d6010d-753c-494e-b0d1-fca68857733b",
        "colab": {
          "base_uri": "https://localhost:8080/",
          "height": 1411
        }
      },
      "source": [
        "# keep the in_features of the fc layer the same as the original pre-trained model but change the num_of_classes according to the classes of the dataset being used.\n",
        "\n",
        "def set_parameters_grad(model, feature_extracting):\n",
        "  if feature_extracting:\n",
        "    for param in model.parameters():\n",
        "      param.requires_grad = False\n",
        "\n",
        "def initialize_model(model_name, num_classes, feature_extract, use_pretrained=True):\n",
        "  \n",
        "  model_ft= None\n",
        "  input_size = 0\n",
        "  \n",
        "  if model_name == 'resnet':\n",
        "    \"\"\"Resent34\"\"\"\n",
        "    \n",
        "    model_ft= models.resent34(pretrained=use_pretrained)\n",
        "    set_parameters_grad(model_ft, feature_extract)\n",
        "    num_features = model_ft.fc.in_features\n",
        "    model_ft.fc = nn.Linear(num_features, num_classes)\n",
        "    input_size = 224\n",
        "    \n",
        "  elif model_name == 'vgg':\n",
        "    \n",
        "    \"\"\"vgg11_bn\"\"\"\n",
        "    \n",
        "    model_ft = models.vgg11_bn(pretrained=use_pretrained)\n",
        "    set_parameters_grad(model_ft, feature_extract)\n",
        "    num_features = modelf_ft.classifier[6].in_features\n",
        "    model_ft.classifier[6] = nn.Linear(num_features, num_classes)\n",
        "    input_size = 224\n",
        "    \n",
        "  elif  model_name == 'alexnet':\n",
        "    \"\"\"Alexnet\"\"\"\n",
        "    \n",
        "    model_ft = models.alexnet(pretrained=use_pretrained)\n",
        "    set_parameters_grad(model_ft, feature_extract)\n",
        "    num_features = modelf_ft.classifier[6].in_features\n",
        "    model_ft.classifier[6] = nn.Linear(num_features, num_classes)\n",
        "    input_size = 224\n",
        "    \n",
        "  elif model_name == 'squeezenet':\n",
        "    \"\"\"Squeezenet\"\"\"\n",
        "    \n",
        "    model_ft = models.squeezenet1_0(pretrained=use_pretrained)\n",
        "    set_parameters_grad(model_ft, feature_extract)\n",
        "    model_ft.classifier[1] = nn.Conv2d(512, num_classes, kernel_size=(1, 1), stride=(1, 1))\n",
        "    model_ft.num_classes = num_classes\n",
        "    input_size = 224\n",
        "    \n",
        "  elif model_name == 'densenet':\n",
        "    \n",
        "    \"\"\"Densenet\"\"\"\n",
        "    \n",
        "    model_ft = models.densenet121(pretrained=use_pretrained)\n",
        "    set_parameters_grad(model_ft, feature_extract)\n",
        "    num_features = model_ft.classifier.in_features\n",
        "    model_ft.classifier = nn.Linear(num_features, num_classes)\n",
        "    input_size = 224\n",
        "    \n",
        "    \n",
        "  elif model_name  == 'inception':\n",
        "    \"\"\"Inception v 3\"\"\"\n",
        "    \n",
        "    model_ft  = models.inception_v3(pretrained = use_trained)\n",
        "    set_parameters_grad(model_ft, feature_extract)\n",
        "    aux_features = moel_ft.AuxLogits.fc.in_features \n",
        "    model_ft.AuxLogits.fc = nn.Linear(aux_features, num_classes)\n",
        "    num_features = model_ft.fc.in_feautres\n",
        "    model_ft.fc = nn.Linear(num_features, num_classes)\n",
        "    input_size= 229\n",
        "    \n",
        "  else:\n",
        "    print(\"Invalid model name, exiting...\")\n",
        "    exit()\n",
        "\n",
        "  return model_ft, input_size\n",
        "\n",
        "# Calling initialize model, feature_extracting here, means model.parameters() are set to false.\n",
        "model_ft, input_size = initialize_model(model_name, num_classes, feature_extract, use_pretrained=True)\n",
        "\n",
        "# Move model to cuda\n",
        "\n",
        "model_ft.to('cuda')\n",
        "\n",
        "\n",
        "params_to_update = model_ft.parameters()\n",
        "print(\"Params to learn:\")\n",
        "if feature_extract:\n",
        "    params_to_update = []\n",
        "    for name,param in model_ft.named_parameters():\n",
        "        if param.requires_grad == True:\n",
        "            params_to_update.append(param)\n",
        "            print(\"\\t\",name)\n",
        "else:\n",
        "    for name,param in model_ft.named_parameters():\n",
        "        if param.requires_grad == True:\n",
        "            print(\"\\t\",name)\n",
        "\n",
        "optimizer_ft = optim.SGD(params_to_update, lr=0.001, momentum=0.9)\n",
        "\n",
        "print(model_ft)"
      ],
      "execution_count": 15,
      "outputs": [
        {
          "output_type": "stream",
          "text": [
            "Params to learn:\n",
            "\t classifier.1.weight\n",
            "\t classifier.1.bias\n",
            "SqueezeNet(\n",
            "  (features): Sequential(\n",
            "    (0): Conv2d(3, 96, kernel_size=(7, 7), stride=(2, 2))\n",
            "    (1): ReLU(inplace)\n",
            "    (2): MaxPool2d(kernel_size=3, stride=2, padding=0, dilation=1, ceil_mode=True)\n",
            "    (3): Fire(\n",
            "      (squeeze): Conv2d(96, 16, kernel_size=(1, 1), stride=(1, 1))\n",
            "      (squeeze_activation): ReLU(inplace)\n",
            "      (expand1x1): Conv2d(16, 64, kernel_size=(1, 1), stride=(1, 1))\n",
            "      (expand1x1_activation): ReLU(inplace)\n",
            "      (expand3x3): Conv2d(16, 64, kernel_size=(3, 3), stride=(1, 1), padding=(1, 1))\n",
            "      (expand3x3_activation): ReLU(inplace)\n",
            "    )\n",
            "    (4): Fire(\n",
            "      (squeeze): Conv2d(128, 16, kernel_size=(1, 1), stride=(1, 1))\n",
            "      (squeeze_activation): ReLU(inplace)\n",
            "      (expand1x1): Conv2d(16, 64, kernel_size=(1, 1), stride=(1, 1))\n",
            "      (expand1x1_activation): ReLU(inplace)\n",
            "      (expand3x3): Conv2d(16, 64, kernel_size=(3, 3), stride=(1, 1), padding=(1, 1))\n",
            "      (expand3x3_activation): ReLU(inplace)\n",
            "    )\n",
            "    (5): Fire(\n",
            "      (squeeze): Conv2d(128, 32, kernel_size=(1, 1), stride=(1, 1))\n",
            "      (squeeze_activation): ReLU(inplace)\n",
            "      (expand1x1): Conv2d(32, 128, kernel_size=(1, 1), stride=(1, 1))\n",
            "      (expand1x1_activation): ReLU(inplace)\n",
            "      (expand3x3): Conv2d(32, 128, kernel_size=(3, 3), stride=(1, 1), padding=(1, 1))\n",
            "      (expand3x3_activation): ReLU(inplace)\n",
            "    )\n",
            "    (6): MaxPool2d(kernel_size=3, stride=2, padding=0, dilation=1, ceil_mode=True)\n",
            "    (7): Fire(\n",
            "      (squeeze): Conv2d(256, 32, kernel_size=(1, 1), stride=(1, 1))\n",
            "      (squeeze_activation): ReLU(inplace)\n",
            "      (expand1x1): Conv2d(32, 128, kernel_size=(1, 1), stride=(1, 1))\n",
            "      (expand1x1_activation): ReLU(inplace)\n",
            "      (expand3x3): Conv2d(32, 128, kernel_size=(3, 3), stride=(1, 1), padding=(1, 1))\n",
            "      (expand3x3_activation): ReLU(inplace)\n",
            "    )\n",
            "    (8): Fire(\n",
            "      (squeeze): Conv2d(256, 48, kernel_size=(1, 1), stride=(1, 1))\n",
            "      (squeeze_activation): ReLU(inplace)\n",
            "      (expand1x1): Conv2d(48, 192, kernel_size=(1, 1), stride=(1, 1))\n",
            "      (expand1x1_activation): ReLU(inplace)\n",
            "      (expand3x3): Conv2d(48, 192, kernel_size=(3, 3), stride=(1, 1), padding=(1, 1))\n",
            "      (expand3x3_activation): ReLU(inplace)\n",
            "    )\n",
            "    (9): Fire(\n",
            "      (squeeze): Conv2d(384, 48, kernel_size=(1, 1), stride=(1, 1))\n",
            "      (squeeze_activation): ReLU(inplace)\n",
            "      (expand1x1): Conv2d(48, 192, kernel_size=(1, 1), stride=(1, 1))\n",
            "      (expand1x1_activation): ReLU(inplace)\n",
            "      (expand3x3): Conv2d(48, 192, kernel_size=(3, 3), stride=(1, 1), padding=(1, 1))\n",
            "      (expand3x3_activation): ReLU(inplace)\n",
            "    )\n",
            "    (10): Fire(\n",
            "      (squeeze): Conv2d(384, 64, kernel_size=(1, 1), stride=(1, 1))\n",
            "      (squeeze_activation): ReLU(inplace)\n",
            "      (expand1x1): Conv2d(64, 256, kernel_size=(1, 1), stride=(1, 1))\n",
            "      (expand1x1_activation): ReLU(inplace)\n",
            "      (expand3x3): Conv2d(64, 256, kernel_size=(3, 3), stride=(1, 1), padding=(1, 1))\n",
            "      (expand3x3_activation): ReLU(inplace)\n",
            "    )\n",
            "    (11): MaxPool2d(kernel_size=3, stride=2, padding=0, dilation=1, ceil_mode=True)\n",
            "    (12): Fire(\n",
            "      (squeeze): Conv2d(512, 64, kernel_size=(1, 1), stride=(1, 1))\n",
            "      (squeeze_activation): ReLU(inplace)\n",
            "      (expand1x1): Conv2d(64, 256, kernel_size=(1, 1), stride=(1, 1))\n",
            "      (expand1x1_activation): ReLU(inplace)\n",
            "      (expand3x3): Conv2d(64, 256, kernel_size=(3, 3), stride=(1, 1), padding=(1, 1))\n",
            "      (expand3x3_activation): ReLU(inplace)\n",
            "    )\n",
            "  )\n",
            "  (classifier): Sequential(\n",
            "    (0): Dropout(p=0.5)\n",
            "    (1): Conv2d(512, 10, kernel_size=(1, 1), stride=(1, 1))\n",
            "    (2): ReLU(inplace)\n",
            "    (3): AdaptiveAvgPool2d(output_size=(1, 1))\n",
            "  )\n",
            ")\n"
          ],
          "name": "stdout"
        }
      ]
    },
    {
      "cell_type": "markdown",
      "metadata": {
        "id": "AGgu40QCx58d",
        "colab_type": "text"
      },
      "source": [
        "## Feature Extraction \n",
        "\n",
        "If we look at the above output, we see that the parameters our model is optimizing is just that of the classifier. Otherwise all the parameters would be updated and we would have a huge list."
      ]
    },
    {
      "cell_type": "code",
      "metadata": {
        "id": "-76kIcOyiug1",
        "colab_type": "code",
        "outputId": "82456d6a-3430-4199-b780-1ef41292d30a",
        "colab": {
          "base_uri": "https://localhost:8080/",
          "height": 1071
        }
      },
      "source": [
        "# Call model\n",
        "\n",
        "criterion = nn.CrossEntropyLoss()\n",
        "model_ft, train_loss_history, val_loss_history, train_acc_history, val_acc_history = train_model(model_ft, dataloaders_dict, optimizer_ft, criterion, num_epochs=num_epochs, is_inception=(model_name==\"inception\"))"
      ],
      "execution_count": 16,
      "outputs": [
        {
          "output_type": "stream",
          "text": [
            "Epoch 1/15\n",
            "========================================\n",
            "train Loss: 1.6537992534637451 Acc: 0.40326\n",
            "valid Loss: 1.0693045073747636 Acc: 0.6395000000000001\n",
            "Epoch 2/15\n",
            "========================================\n",
            "train Loss: 1.4428542623519898 Acc: 0.48192\n",
            "valid Loss: 0.9252624684572219 Acc: 0.6881\n",
            "Epoch 3/15\n",
            "========================================\n",
            "train Loss: 1.398214227437973 Acc: 0.49866000000000005\n",
            "valid Loss: 0.8472043114900589 Acc: 0.7049000000000001\n",
            "Epoch 4/15\n",
            "========================================\n",
            "train Loss: 1.3721557817459107 Acc: 0.50978\n",
            "valid Loss: 0.8149595212936401 Acc: 0.7197\n",
            "Epoch 5/15\n",
            "========================================\n",
            "train Loss: 1.3521209259033202 Acc: 0.5202600000000001\n",
            "valid Loss: 0.8026948624849319 Acc: 0.7273000000000001\n",
            "Epoch 6/15\n",
            "========================================\n",
            "train Loss: 1.3471450221538543 Acc: 0.5198\n",
            "valid Loss: 0.7774805682897568 Acc: 0.7312000000000001\n",
            "Epoch 7/15\n",
            "========================================\n",
            "train Loss: 1.339337375164032 Acc: 0.52142\n",
            "valid Loss: 0.7893327742815017 Acc: 0.7266\n",
            "Epoch 8/15\n",
            "========================================\n",
            "train Loss: 1.334986154794693 Acc: 0.52524\n",
            "valid Loss: 0.7725073313713073 Acc: 0.7332000000000001\n",
            "Epoch 9/15\n",
            "========================================\n",
            "train Loss: 1.331029949903488 Acc: 0.52408\n",
            "valid Loss: 0.7636621361970901 Acc: 0.7336\n",
            "Epoch 10/15\n",
            "========================================\n",
            "train Loss: 1.327153077363968 Acc: 0.5277200000000001\n",
            "valid Loss: 0.7695209348201751 Acc: 0.7316\n",
            "Epoch 11/15\n",
            "========================================\n",
            "train Loss: 1.3187551902532577 Acc: 0.52914\n",
            "valid Loss: 0.7508022379875183 Acc: 0.7396\n",
            "Epoch 12/15\n",
            "========================================\n",
            "train Loss: 1.323718118429184 Acc: 0.5286000000000001\n",
            "valid Loss: 0.757757354080677 Acc: 0.738\n",
            "Epoch 13/15\n",
            "========================================\n",
            "train Loss: 1.3157335624694824 Acc: 0.5329400000000001\n",
            "valid Loss: 0.7439024388790131 Acc: 0.7401\n",
            "Epoch 14/15\n",
            "========================================\n",
            "train Loss: 1.314134907245636 Acc: 0.53156\n",
            "valid Loss: 0.7733821189403534 Acc: 0.7285\n",
            "Epoch 15/15\n",
            "========================================\n",
            "train Loss: 1.3148738973140717 Acc: 0.53074\n",
            "valid Loss: 0.7342049831151962 Acc: 0.7459\n",
            "Time taken to train 43m 5.182629s\n",
            "best val acc:\n"
          ],
          "name": "stdout"
        }
      ]
    },
    {
      "cell_type": "markdown",
      "metadata": {
        "id": "APRtP_fHDXE8",
        "colab_type": "text"
      },
      "source": [
        " The variable model_ft is not an actual Pytorch model, it is not object of type OrderedDict mapping weights and biases to numbers. \n",
        " \n",
        " It is just contains the parameters of our trained model"
      ]
    },
    {
      "cell_type": "code",
      "metadata": {
        "id": "LptWzxfGCuWq",
        "colab_type": "code",
        "outputId": "463e63d1-fc74-4ed6-af87-75c19f6e1e48",
        "colab": {
          "base_uri": "https://localhost:8080/",
          "height": 71
        }
      },
      "source": [
        "print(model_ft.keys())\n",
        "print(len(model_ft.keys()))"
      ],
      "execution_count": 17,
      "outputs": [
        {
          "output_type": "stream",
          "text": [
            "odict_keys(['features.0.weight', 'features.0.bias', 'features.3.squeeze.weight', 'features.3.squeeze.bias', 'features.3.expand1x1.weight', 'features.3.expand1x1.bias', 'features.3.expand3x3.weight', 'features.3.expand3x3.bias', 'features.4.squeeze.weight', 'features.4.squeeze.bias', 'features.4.expand1x1.weight', 'features.4.expand1x1.bias', 'features.4.expand3x3.weight', 'features.4.expand3x3.bias', 'features.5.squeeze.weight', 'features.5.squeeze.bias', 'features.5.expand1x1.weight', 'features.5.expand1x1.bias', 'features.5.expand3x3.weight', 'features.5.expand3x3.bias', 'features.7.squeeze.weight', 'features.7.squeeze.bias', 'features.7.expand1x1.weight', 'features.7.expand1x1.bias', 'features.7.expand3x3.weight', 'features.7.expand3x3.bias', 'features.8.squeeze.weight', 'features.8.squeeze.bias', 'features.8.expand1x1.weight', 'features.8.expand1x1.bias', 'features.8.expand3x3.weight', 'features.8.expand3x3.bias', 'features.9.squeeze.weight', 'features.9.squeeze.bias', 'features.9.expand1x1.weight', 'features.9.expand1x1.bias', 'features.9.expand3x3.weight', 'features.9.expand3x3.bias', 'features.10.squeeze.weight', 'features.10.squeeze.bias', 'features.10.expand1x1.weight', 'features.10.expand1x1.bias', 'features.10.expand3x3.weight', 'features.10.expand3x3.bias', 'features.12.squeeze.weight', 'features.12.squeeze.bias', 'features.12.expand1x1.weight', 'features.12.expand1x1.bias', 'features.12.expand3x3.weight', 'features.12.expand3x3.bias', 'classifier.1.weight', 'classifier.1.bias'])\n",
            "52\n"
          ],
          "name": "stdout"
        }
      ]
    },
    {
      "cell_type": "markdown",
      "metadata": {
        "id": "S-GoQsHRFLM_",
        "colab_type": "text"
      },
      "source": [
        "The keys of our model are the weights and baises for the squeezenet, while the last two parameters are the ones which  were trained"
      ]
    },
    {
      "cell_type": "code",
      "metadata": {
        "id": "8TiUP6hKFeQx",
        "colab_type": "code",
        "colab": {
          "base_uri": "https://localhost:8080/",
          "height": 51
        },
        "outputId": "a47a0e6c-6948-4042-8f2f-1ff78cbd8ea4"
      },
      "source": [
        "classifier_params = list(model_ft.keys())\n",
        "                         \n",
        "print(classifier_params[-1])\n",
        "print(classifier_params[-2])\n",
        "\n",
        "# We can print the weight of this model \n",
        "\n",
        "# print(model_ft['classifier.1.weight'])"
      ],
      "execution_count": 18,
      "outputs": [
        {
          "output_type": "stream",
          "text": [
            "classifier.1.bias\n",
            "classifier.1.weight\n"
          ],
          "name": "stdout"
        }
      ]
    },
    {
      "cell_type": "markdown",
      "metadata": {
        "id": "9klJX8jsGV_K",
        "colab_type": "text"
      },
      "source": [
        "## Saving the model\n",
        "\n",
        "Let's save this model and so that that we can fire our predictions later. \n",
        "\n",
        "Next time we can load this model by instantiating a sequeeze model and then give out predictions"
      ]
    },
    {
      "cell_type": "code",
      "metadata": {
        "id": "71S0c7fPGiAW",
        "colab_type": "code",
        "colab": {}
      },
      "source": [
        "checkpoint  = {'state_dict': model_ft}\n",
        "\n",
        "path = \"sample_data/parameters.pth\"\n",
        "\n",
        "torch.save(checkpoint, path)"
      ],
      "execution_count": 0,
      "outputs": []
    },
    {
      "cell_type": "code",
      "metadata": {
        "id": "0vGY6j-GQhw9",
        "colab_type": "code",
        "colab": {}
      },
      "source": [
        "# Load this back \n",
        "\n",
        "def load_parameters(filepath):\n",
        "  \n",
        "  # get the pre-trained squeezenet model\n",
        "  \n",
        "  model = models.squeezenet1_0(pretrained=True)\n",
        "  \n",
        "  checkpoint  = torch.load(filepath)\n",
        "  \n",
        "  model.classifier[1] = nn.Conv2d(512, num_classes, kernel_size=(1, 1), stride=(1, 1))\n",
        "  \n",
        "  model.load_state_dict(checkpoint['state_dict'])\n",
        "  \n",
        "  return model\n",
        "  \n",
        "model = load_parameters(filepath =path)"
      ],
      "execution_count": 0,
      "outputs": []
    },
    {
      "cell_type": "code",
      "metadata": {
        "id": "6wzcLwXdUsRQ",
        "colab_type": "code",
        "colab": {}
      },
      "source": [
        "class_label_map = {0 : \"airplane\", 1: 'automobile' , 2: 'bird', 3: 'cat', 4: 'deer', 5: 'dog', 6: 'frog', 7:'horse', 8: 'ship', 9: 'truck'}\n",
        "\n",
        "def predict(loader, model, key):\n",
        "  \"\"\"predict the output of a single varaible given the key\"\"\"\n",
        "  images, labels = next(iter(loader))\n",
        "  \n",
        "  img, lbl = images[key], labels[key]\n",
        "  \n",
        "  lbl = lbl.item()\n",
        "  \n",
        "  plt.imshow(transforms.ToPILImage()(img), interpolation=\"bicubic\")\n",
        "  plt.title(class_label_map[lbl])\n",
        "  \n",
        "  model.eval()\n",
        "  model.cpu()\n",
        "  \n",
        "  out = model.forward(img.unsqueeze_(0))\n",
        "  ps = torch.exp(out)\n",
        "  \n",
        "  ps, pred = ps.max(dim=1)\n",
        "  pred = pred.item()\n",
        "  predicted_label = class_label_map[pred]\n",
        "  \n",
        "  return predicted_label\n",
        "\n",
        "loader = dataloaders_dict['valid']\n",
        "\n",
        "prediction = predict(loader = loader, model=model, key=37)"
      ],
      "execution_count": 0,
      "outputs": []
    },
    {
      "cell_type": "markdown",
      "metadata": {
        "id": "nlkahcoExcE6",
        "colab_type": "text"
      },
      "source": [
        "## Plot Train vs Validations losses\n",
        "\n",
        "I wrote out two fucntions to plot our train and validations losses and our train and validation losses. "
      ]
    },
    {
      "cell_type": "code",
      "metadata": {
        "id": "Zi0_zPPyqKhT",
        "colab_type": "code",
        "outputId": "d113f176-a57c-4216-cd6c-3d1db7cbacb2",
        "colab": {
          "base_uri": "https://localhost:8080/",
          "height": 573
        }
      },
      "source": [
        "# Visualize train and validation losses\n",
        "def plot_train_val_loss(train_loss, val_loss):\n",
        "  plt.plot(train_loss, label='train Loss')\n",
        "  plt.plot(val_loss, label='validation loss')\n",
        "  plt.title('Train and Validation losses')\n",
        "  plt.xlabel('epochs')\n",
        "  plt.ylabel('Loss')\n",
        "  plt.legend()\n",
        "  plt.show()\n",
        "  \n",
        "# Visualize train_accuracy and validation accuracy\n",
        "def plot_train_val_acc(train_acc, val_acc):\n",
        "  plt.plot(train_acc, label='train accuracy')\n",
        "  plt.plot(val_acc, label='validation accuracy')\n",
        "  plt.title('Train and Validation accuracy')\n",
        "  plt.xlabel('epochs')\n",
        "  plt.ylabel('Loss')\n",
        "  plt.legend()\n",
        "  plt.show()\n",
        "  \n",
        "plot_train_val_loss(train_loss_history, val_loss_history)\n",
        "plot_train_val_acc(train_acc_history, val_acc_history)"
      ],
      "execution_count": 23,
      "outputs": [
        {
          "output_type": "display_data",
          "data": {
            "image/png": "[encoded data removed]",
            "text/plain": [
              "<Figure size 432x288 with 1 Axes>"
            ]
          },
          "metadata": {
            "tags": []
          }
        },
        {
          "output_type": "display_data",
          "data": {
            "image/png": "[encoded data removed]",
            "text/plain": [
              "<Figure size 432x288 with 1 Axes>"
            ]
          },
          "metadata": {
            "tags": []
          }
        }
      ]
    },
    {
      "cell_type": "markdown",
      "metadata": {
        "id": "coUQX6C-sqIO",
        "colab_type": "text"
      },
      "source": [
        "## Finetuing the model\n",
        "\n",
        "Finetune the model by setting feature_extract and use_pretrained to False. \n",
        "\n",
        "This downloads models without any pre-training, we will then train all the parameters in our model. "
      ]
    },
    {
      "cell_type": "code",
      "metadata": {
        "id": "eWinPaCPrcsz",
        "colab_type": "code",
        "outputId": "34568133-8640-429a-ce68-da5b97e2b931",
        "colab": {
          "base_uri": "https://localhost:8080/",
          "height": 1071
        }
      },
      "source": [
        "scratch_model, _= initialize_model(model_name, num_classes, feature_extract=False, use_pretrained=False)\n",
        "scratch_model.cuda()\n",
        "scratch_opt = optim.SGD(scratch_model.parameters(), lr=0.001, momentum=0.9)\n",
        "scratch_criterion = nn.CrossEntropyLoss()\n",
        "\n",
        "scratch_model_ft, train_loss_history_scr, val_loss_history_scr, train_acc_history_scr, val_acc_history_scr = train_model(scratch_model, dataloaders_dict, scratch_opt, scratch_criterion, num_epochs=num_epochs, is_inception=(model_name==\"inception\"))"
      ],
      "execution_count": 0,
      "outputs": [
        {
          "output_type": "stream",
          "text": [
            "Epoch 1/15\n",
            "========================================\n",
            "train Loss: 2.183945164442062 Acc: 0.17914000000000002\n",
            "valid Loss: 2.0373213589191437 Acc: 0.21180000000000002\n",
            "Epoch 2/15\n",
            "========================================\n",
            "train Loss: 1.9933730325698853 Acc: 0.24158000000000002\n",
            "valid Loss: 1.8785673546791077 Acc: 0.27390000000000003\n",
            "Epoch 3/15\n",
            "========================================\n",
            "train Loss: 1.927916889667511 Acc: 0.27146000000000003\n",
            "valid Loss: 1.7740879011154176 Acc: 0.3271\n",
            "Epoch 4/15\n",
            "========================================\n",
            "train Loss: 1.884662835597992 Acc: 0.29248\n",
            "valid Loss: 1.745025758743286 Acc: 0.3547\n",
            "Epoch 5/15\n",
            "========================================\n",
            "train Loss: 1.865339114189148 Acc: 0.3058\n",
            "valid Loss: 1.676069267988205 Acc: 0.3871\n",
            "Epoch 6/15\n",
            "========================================\n",
            "train Loss: 1.8298955087661744 Acc: 0.32020000000000004\n",
            "valid Loss: 1.6453673028945923 Acc: 0.41290000000000004\n",
            "Epoch 7/15\n",
            "========================================\n",
            "train Loss: 1.8109780082702636 Acc: 0.33236000000000004\n",
            "valid Loss: 1.6329963934421539 Acc: 0.3956\n",
            "Epoch 8/15\n",
            "========================================\n",
            "train Loss: 1.796108674764633 Acc: 0.33980000000000005\n",
            "valid Loss: 1.588498146533966 Acc: 0.43\n",
            "Epoch 9/15\n",
            "========================================\n",
            "train Loss: 1.7693675971031189 Acc: 0.35040000000000004\n",
            "valid Loss: 1.5674254882335663 Acc: 0.43270000000000003\n",
            "Epoch 10/15\n",
            "========================================\n",
            "train Loss: 1.7596526446342469 Acc: 0.35928000000000004\n",
            "valid Loss: 1.5511422157287598 Acc: 0.4454\n",
            "Epoch 11/15\n",
            "========================================\n",
            "train Loss: 1.7476382994651793 Acc: 0.3622\n",
            "valid Loss: 1.582089273929596 Acc: 0.4062\n",
            "Epoch 12/15\n",
            "========================================\n",
            "train Loss: 1.72580713057518 Acc: 0.37128000000000005\n",
            "valid Loss: 1.5925980770587922 Acc: 0.42700000000000005\n",
            "Epoch 13/15\n",
            "========================================\n",
            "train Loss: 1.7189342110157013 Acc: 0.37382000000000004\n",
            "valid Loss: 1.5858002281188965 Acc: 0.42710000000000004\n",
            "Epoch 14/15\n",
            "========================================\n",
            "train Loss: 1.7035497250556946 Acc: 0.38312\n",
            "valid Loss: 1.473250515460968 Acc: 0.4697\n",
            "Epoch 15/15\n",
            "========================================\n",
            "train Loss: 1.6927993392944336 Acc: 0.38578\n",
            "valid Loss: 1.6051612710952758 Acc: 0.4214\n",
            "Time taken to train 62m 11.538544s\n",
            "best val acc:\n"
          ],
          "name": "stdout"
        }
      ]
    },
    {
      "cell_type": "markdown",
      "metadata": {
        "id": "ZrJ_dj9A7uIA",
        "colab_type": "text"
      },
      "source": [
        "It turns that our Feature extractor worked better than our Fine tuned model. This was probabl because our model was too complicated for the CIFAR-10 dataset, or maybe the structure of the network was such that it could not be generalized well to the validation data. "
      ]
    },
    {
      "cell_type": "code",
      "metadata": {
        "id": "M42IDb3Vr9lJ",
        "colab_type": "code",
        "outputId": "9f43d06d-e783-4656-d1c8-dd1313c17fd9",
        "colab": {
          "base_uri": "https://localhost:8080/",
          "height": 573
        }
      },
      "source": [
        "# plot train and validation losses for the scratch model\n",
        "\n",
        "plot_train_val_loss(train_loss_history_scr, val_loss_history_scr)\n",
        "plot_train_val_acc(train_acc_history_scr, val_acc_history_scr)"
      ],
      "execution_count": 0,
      "outputs": [
        {
          "output_type": "display_data",
          "data": {
            "image/png": "[encoded data removed]",
            "text/plain": [
              "<Figure size 432x288 with 1 Axes>"
            ]
          },
          "metadata": {
            "tags": []
          }
        },
        {
          "output_type": "display_data",
          "data": {
            "image/png": "[encoded data removed]",
            "text/plain": [
              "<Figure size 432x288 with 1 Axes>"
            ]
          },
          "metadata": {
            "tags": []
          }
        }
      ]
    },
    {
      "cell_type": "markdown",
      "metadata": {
        "id": "CPklDLm58W-0",
        "colab_type": "text"
      },
      "source": [
        "The Validation loss is the lowest at around the 13 th epoch. While validation accuracy is highest at the same epcoh. \n",
        "\n",
        "Thus, for simplet datasets with limited data, it is better to Feature Extract than to train the whole model from scratch. "
      ]
    },
    {
      "cell_type": "code",
      "metadata": {
        "id": "mCkEIiU2-HOa",
        "colab_type": "code",
        "colab": {}
      },
      "source": [
        ""
      ],
      "execution_count": 0,
      "outputs": []
    }
  ]
}