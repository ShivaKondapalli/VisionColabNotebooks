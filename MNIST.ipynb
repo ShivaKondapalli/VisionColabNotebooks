{
  "nbformat": 4,
  "nbformat_minor": 0,
  "metadata": {
    "colab": {
      "name": "MNIST.ipynb",
      "version": "0.3.2",
      "provenance": [],
      "collapsed_sections": [],
      "include_colab_link": true
    },
    "kernelspec": {
      "name": "python3",
      "display_name": "Python 3"
    },
    "accelerator": "GPU"
  },
  "cells": [
    {
      "cell_type": "markdown",
      "metadata": {
        "id": "view-in-github",
        "colab_type": "text"
      },
      "source": [
        "<a href=\"https://colab.research.google.com/github/ShivaKondapalli/Invariance/blob/master/MNIST.ipynb\" target=\"_parent\"><img src=\"https://colab.research.google.com/assets/colab-badge.svg\" alt=\"Open In Colab\"/></a>"
      ]
    },
    {
      "metadata": {
        "id": "uDmLxVe6rFXa",
        "colab_type": "code",
        "colab": {}
      },
      "cell_type": "code",
      "source": [
        "import torch\n",
        "from torchvision import transforms\n",
        "import torch.nn as nn\n",
        "from torch.utils.data import Dataset\n",
        "from torch.optim import lr_scheduler\n",
        "from torch import optim\n",
        "from torchvision import datasets\n",
        "import torchvision\n",
        "import numpy as np\n",
        "import torch.nn.functional as F\n",
        "import matplotlib.pyplot as plt\n",
        "torch.set_printoptions(precision=10)"
      ],
      "execution_count": 0,
      "outputs": []
    },
    {
      "metadata": {
        "id": "E-JMCuKRrP9F",
        "colab_type": "code",
        "outputId": "d521bbf0-070c-4e89-9043-a8a5c89642d2",
        "colab": {
          "base_uri": "https://localhost:8080/",
          "height": 34
        }
      },
      "cell_type": "code",
      "source": [
        "train_on_gpu = torch.cuda.is_available()\n",
        "if not train_on_gpu:\n",
        "    print('Bummer!  Training on CPU ...')\n",
        "else:\n",
        "    print('You are good to go!  Training on GPU ...')"
      ],
      "execution_count": 0,
      "outputs": [
        {
          "output_type": "stream",
          "text": [
            "You are good to go!  Training on GPU ...\n"
          ],
          "name": "stdout"
        }
      ]
    },
    {
      "metadata": {
        "id": "GVq99hwPrZyj",
        "colab_type": "code",
        "colab": {}
      },
      "cell_type": "code",
      "source": [
        "data_transforms = {\n",
        "    'train': transforms.Compose([\n",
        "        transforms.RandomHorizontalFlip(),\n",
        "        transforms.RandomVerticalFlip(),\n",
        "        transforms.RandomRotation(0.5),\n",
        "        transforms.ToTensor(),\n",
        "        transforms.Normalize([0.5], [0.5])\n",
        "    ]),\n",
        "    'valid': transforms.Compose([\n",
        "        transforms.ToTensor(),\n",
        "        transforms.Normalize([0.5], [0.5])\n",
        "    ]),\n",
        "}"
      ],
      "execution_count": 0,
      "outputs": []
    },
    {
      "metadata": {
        "id": "8PckCx9xrb6G",
        "colab_type": "code",
        "colab": {}
      },
      "cell_type": "code",
      "source": [
        "trainset = datasets.MNIST('MNIST_data', download=True, train=True,\n",
        "                                 transform=data_transforms['train'])\n",
        "trainloader = torch.utils.data.DataLoader(trainset, batch_size=100, shuffle=True)\n",
        "\n",
        "\n",
        "testset = datasets.MNIST('MNIST_data', download=True, train=False, transform=data_transforms['valid'])\n",
        "testloader = torch.utils.data.DataLoader(testset, batch_size=100, shuffle=False)"
      ],
      "execution_count": 0,
      "outputs": []
    },
    {
      "metadata": {
        "id": "iyv-nH5-rsUd",
        "colab_type": "code",
        "outputId": "08795cfe-5363-4bcd-ab58-40fada94f975",
        "colab": {
          "base_uri": "https://localhost:8080/",
          "height": 384
        }
      },
      "cell_type": "code",
      "source": [
        "imgs, lbls = next(iter(trainloader))\n",
        "\n",
        "grid = torchvision.utils.make_grid(imgs, nrow=10)\n",
        "\n",
        "plt.imshow(np.transpose(grid, (1, 2,0)))"
      ],
      "execution_count": 0,
      "outputs": [
        {
          "output_type": "stream",
          "text": [
            "Clipping input data to the valid range for imshow with RGB data ([0..1] for floats or [0..255] for integers).\n"
          ],
          "name": "stderr"
        },
        {
          "output_type": "execute_result",
          "data": {
            "text/plain": [
              "<matplotlib.image.AxesImage at 0x7f082060a668>"
            ]
          },
          "metadata": {
            "tags": []
          },
          "execution_count": 6
        },
        {
          "output_type": "display_data",
          "data": {
            "image/png": "[encoded data removed]",
            "text/plain": [
              "<Figure size 576x396 with 1 Axes>"
            ]
          },
          "metadata": {
            "tags": []
          }
        }
      ]
    },
    {
      "metadata": {
        "id": "V2wx_0WHrvHE",
        "colab_type": "code",
        "outputId": "420aadae-8c2e-4cf9-f86c-41872c9b2d80",
        "colab": {
          "base_uri": "https://localhost:8080/",
          "height": 170
        }
      },
      "cell_type": "code",
      "source": [
        "class MyConv(nn.Module):\n",
        "    def __init__(self):\n",
        "        super(MyConv, self).__init__()\n",
        "\n",
        "        self.conv1 = nn.Conv2d(in_channels=1, out_channels=16, kernel_size=5)\n",
        "\n",
        "        self.conv2 = nn.Conv2d(in_channels=16, out_channels=32, kernel_size=5)\n",
        "        self.conv2_bn = nn.BatchNorm2d(32)\n",
        "\n",
        "        self.fc1 = nn.Linear(in_features=32 * 4 * 4, out_features=120)\n",
        "        self.fc1_bn = nn.BatchNorm1d(120)\n",
        "        \n",
        "        self.dropout = nn.Dropout(0.2)\n",
        "\n",
        "        self.out = nn.Linear(in_features=120, out_features=10)\n",
        "\n",
        "    def forward(self, x):\n",
        "        x = F.relu(F.max_pool2d(self.conv1(x), kernel_size=2))\n",
        "        x = F.relu(F.max_pool2d(self.conv2_bn(self.conv2(x)), kernel_size=2))\n",
        "\n",
        "        x = x.flatten(start_dim=1)\n",
        "        \n",
        "        x = F.relu(self.fc1_bn(self.fc1(x)))\n",
        "        \n",
        "        x = self.dropout(x)\n",
        "        \n",
        "        x = F.relu(self.out(x))\n",
        "\n",
        "        return F.log_softmax(x, dim=1)\n",
        "\n",
        "net = MyConv()\n",
        "net"
      ],
      "execution_count": 0,
      "outputs": [
        {
          "output_type": "execute_result",
          "data": {
            "text/plain": [
              "MyConv(\n",
              "  (conv1): Conv2d(1, 16, kernel_size=(5, 5), stride=(1, 1))\n",
              "  (conv2): Conv2d(16, 32, kernel_size=(5, 5), stride=(1, 1))\n",
              "  (conv2_bn): BatchNorm2d(32, eps=1e-05, momentum=0.1, affine=True, track_running_stats=True)\n",
              "  (fc1): Linear(in_features=512, out_features=120, bias=True)\n",
              "  (fc1_bn): BatchNorm1d(120, eps=1e-05, momentum=0.1, affine=True, track_running_stats=True)\n",
              "  (dropout): Dropout(p=0.2)\n",
              "  (out): Linear(in_features=120, out_features=10, bias=True)\n",
              ")"
            ]
          },
          "metadata": {
            "tags": []
          },
          "execution_count": 7
        }
      ]
    },
    {
      "metadata": {
        "id": "b3IUD3yorxVd",
        "colab_type": "code",
        "colab": {}
      },
      "cell_type": "code",
      "source": [
        "criterion = nn.NLLLoss()\n",
        "optimizer = optim.Adam(net.parameters(), lr=0.001)\n",
        "scheduler = lr_scheduler.StepLR(optimizer, step_size=3, gamma=0.1)\n",
        "\n",
        "\n",
        "def validation(model, loader, criterion, device='cuda'):\n",
        "    val_loss = 0.0\n",
        "    val_accuracy = 0.0\n",
        "\n",
        "    for images, labels in loader:\n",
        "        # images = images.resize_(images.size(0), 784)\n",
        "\n",
        "        images, labels = images.to(device), labels.to(device)\n",
        "\n",
        "        output = model.forward(images)\n",
        "        loss = criterion(output, labels).item()\n",
        "        probs = torch.exp(output)\n",
        "        _, preds = probs.max(dim=1)\n",
        "        equality = (preds == labels)\n",
        "\n",
        "        val_loss += loss\n",
        "        val_accuracy += equality.type(torch.FloatTensor).mean()\n",
        "\n",
        "    return val_loss, val_accuracy"
      ],
      "execution_count": 0,
      "outputs": []
    },
    {
      "metadata": {
        "id": "MI2oH30Nr0Wv",
        "colab_type": "code",
        "outputId": "d57bfce7-b4e7-43cd-bb0c-7453a8eb23cb",
        "colab": {
          "base_uri": "https://localhost:8080/",
          "height": 5447
        }
      },
      "cell_type": "code",
      "source": [
        "# bells and whistles for setting up odel training\n",
        "\n",
        "print_every = 30\n",
        "steps = 0\n",
        "num_epochs = 15\n",
        "running_loss = 0\n",
        "\n",
        "train_losses = []\n",
        "test_losses = []\n",
        "\n",
        "for epoch in range(num_epochs):\n",
        "  \n",
        "  for images, labels in trainloader:\n",
        "    \n",
        "    steps += 1\n",
        "    images, labels = images.cuda(), labels.cuda()\n",
        "    \n",
        "    net.cuda()\n",
        "    \n",
        "    net.train()\n",
        "    \n",
        "    optimizer.zero_grad()\n",
        "    \n",
        "    logps = net.forward(images)\n",
        "    \n",
        "    loss = criterion(logps, labels)\n",
        "    train_losses.append(loss)\n",
        "    \n",
        "    loss.backward()\n",
        "    \n",
        "    optimizer.step()\n",
        "    \n",
        "    running_loss += loss.item()\n",
        "    \n",
        "    if steps % print_every == 0:\n",
        "      \n",
        "      net.eval()\n",
        "      \n",
        "      with torch.no_grad():\n",
        "        \n",
        "        test_loss, test_accuracy = validation(net, testloader, criterion)\n",
        "        \n",
        "        test_losses.append(test_loss)\n",
        "        \n",
        "        print(\"Epoch: {}/{}..\".format(epoch + 1, num_epochs),\n",
        "              \"training_loss: {:.4f}\".format(running_loss / print_every),\n",
        "              \"validation loss: {:.4f} \".format(test_loss / len(testloader)),\n",
        "              \"validation accuracy: {:.4f}\".format(test_accuracy / len(testloader)))\n",
        "        \n",
        "        running_loss = 0\n",
        "        \n",
        "plt.plot(train_losses, label='Training Loss')\n",
        "plt.plot(test_losses, label='Validation Loss')\n",
        "plt.legend(frameon=False)\n",
        "plt.show()"
      ],
      "execution_count": 0,
      "outputs": [
        {
          "output_type": "stream",
          "text": [
            "Epoch: 1/15.. training_loss: 1.9138 validation loss: 1.8624  validation accuracy: 0.5541\n",
            "Epoch: 1/15.. training_loss: 1.4071 validation loss: 1.0924  validation accuracy: 0.7531\n",
            "Epoch: 1/15.. training_loss: 1.0562 validation loss: 0.8635  validation accuracy: 0.8130\n",
            "Epoch: 1/15.. training_loss: 0.7816 validation loss: 0.7132  validation accuracy: 0.8227\n",
            "Epoch: 1/15.. training_loss: 0.6338 validation loss: 0.5208  validation accuracy: 0.8646\n",
            "Epoch: 1/15.. training_loss: 0.5262 validation loss: 0.4798  validation accuracy: 0.8696\n",
            "Epoch: 1/15.. training_loss: 0.4823 validation loss: 0.4196  validation accuracy: 0.8864\n",
            "Epoch: 1/15.. training_loss: 0.4489 validation loss: 0.3896  validation accuracy: 0.8990\n",
            "Epoch: 1/15.. training_loss: 0.3968 validation loss: 0.3476  validation accuracy: 0.9021\n",
            "Epoch: 1/15.. training_loss: 0.3723 validation loss: 0.3496  validation accuracy: 0.9006\n",
            "Epoch: 1/15.. training_loss: 0.3416 validation loss: 0.2921  validation accuracy: 0.9107\n",
            "Epoch: 1/15.. training_loss: 0.3353 validation loss: 0.3067  validation accuracy: 0.9060\n",
            "Epoch: 1/15.. training_loss: 0.2999 validation loss: 0.2762  validation accuracy: 0.9195\n",
            "Epoch: 1/15.. training_loss: 0.3336 validation loss: 0.2735  validation accuracy: 0.9170\n",
            "Epoch: 1/15.. training_loss: 0.2717 validation loss: 0.2699  validation accuracy: 0.9190\n",
            "Epoch: 1/15.. training_loss: 0.2597 validation loss: 0.2544  validation accuracy: 0.9230\n",
            "Epoch: 1/15.. training_loss: 0.2690 validation loss: 0.2839  validation accuracy: 0.9121\n",
            "Epoch: 1/15.. training_loss: 0.2466 validation loss: 0.2049  validation accuracy: 0.9372\n",
            "Epoch: 1/15.. training_loss: 0.2582 validation loss: 0.2182  validation accuracy: 0.9331\n",
            "Epoch: 1/15.. training_loss: 0.2581 validation loss: 0.1866  validation accuracy: 0.9443\n",
            "Epoch: 2/15.. training_loss: 0.2309 validation loss: 0.2197  validation accuracy: 0.9329\n",
            "Epoch: 2/15.. training_loss: 0.2193 validation loss: 0.1888  validation accuracy: 0.9413\n",
            "Epoch: 2/15.. training_loss: 0.2293 validation loss: 0.1766  validation accuracy: 0.9467\n",
            "Epoch: 2/15.. training_loss: 0.2246 validation loss: 0.2034  validation accuracy: 0.9361\n",
            "Epoch: 2/15.. training_loss: 0.1984 validation loss: 0.1909  validation accuracy: 0.9419\n",
            "Epoch: 2/15.. training_loss: 0.2008 validation loss: 0.1860  validation accuracy: 0.9431\n",
            "Epoch: 2/15.. training_loss: 0.2197 validation loss: 0.2010  validation accuracy: 0.9373\n",
            "Epoch: 2/15.. training_loss: 0.2141 validation loss: 0.2177  validation accuracy: 0.9305\n",
            "Epoch: 2/15.. training_loss: 0.2076 validation loss: 0.1851  validation accuracy: 0.9418\n",
            "Epoch: 2/15.. training_loss: 0.2172 validation loss: 0.2027  validation accuracy: 0.9376\n",
            "Epoch: 2/15.. training_loss: 0.1907 validation loss: 0.1772  validation accuracy: 0.9444\n",
            "Epoch: 2/15.. training_loss: 0.1915 validation loss: 0.1717  validation accuracy: 0.9453\n",
            "Epoch: 2/15.. training_loss: 0.1880 validation loss: 0.1750  validation accuracy: 0.9440\n",
            "Epoch: 2/15.. training_loss: 0.1946 validation loss: 0.1628  validation accuracy: 0.9515\n",
            "Epoch: 2/15.. training_loss: 0.1893 validation loss: 0.1591  validation accuracy: 0.9504\n",
            "Epoch: 2/15.. training_loss: 0.1690 validation loss: 0.1360  validation accuracy: 0.9581\n",
            "Epoch: 2/15.. training_loss: 0.1713 validation loss: 0.1511  validation accuracy: 0.9529\n",
            "Epoch: 2/15.. training_loss: 0.1639 validation loss: 0.1662  validation accuracy: 0.9470\n",
            "Epoch: 2/15.. training_loss: 0.1896 validation loss: 0.1774  validation accuracy: 0.9433\n",
            "Epoch: 2/15.. training_loss: 0.1681 validation loss: 0.1429  validation accuracy: 0.9566\n",
            "Epoch: 3/15.. training_loss: 0.1553 validation loss: 0.1557  validation accuracy: 0.9492\n",
            "Epoch: 3/15.. training_loss: 0.1688 validation loss: 0.1774  validation accuracy: 0.9441\n",
            "Epoch: 3/15.. training_loss: 0.1825 validation loss: 0.1567  validation accuracy: 0.9517\n",
            "Epoch: 3/15.. training_loss: 0.1655 validation loss: 0.1563  validation accuracy: 0.9506\n",
            "Epoch: 3/15.. training_loss: 0.1463 validation loss: 0.1317  validation accuracy: 0.9586\n",
            "Epoch: 3/15.. training_loss: 0.1663 validation loss: 0.1475  validation accuracy: 0.9527\n",
            "Epoch: 3/15.. training_loss: 0.1634 validation loss: 0.1462  validation accuracy: 0.9527\n",
            "Epoch: 3/15.. training_loss: 0.1533 validation loss: 0.1293  validation accuracy: 0.9584\n",
            "Epoch: 3/15.. training_loss: 0.1493 validation loss: 0.1394  validation accuracy: 0.9563\n",
            "Epoch: 3/15.. training_loss: 0.1553 validation loss: 0.1446  validation accuracy: 0.9520\n",
            "Epoch: 3/15.. training_loss: 0.1410 validation loss: 0.1165  validation accuracy: 0.9620\n",
            "Epoch: 3/15.. training_loss: 0.1512 validation loss: 0.1338  validation accuracy: 0.9565\n",
            "Epoch: 3/15.. training_loss: 0.1545 validation loss: 0.1367  validation accuracy: 0.9569\n",
            "Epoch: 3/15.. training_loss: 0.1623 validation loss: 0.1265  validation accuracy: 0.9598\n",
            "Epoch: 3/15.. training_loss: 0.1593 validation loss: 0.1336  validation accuracy: 0.9584\n",
            "Epoch: 3/15.. training_loss: 0.1412 validation loss: 0.1419  validation accuracy: 0.9539\n",
            "Epoch: 3/15.. training_loss: 0.1407 validation loss: 0.1526  validation accuracy: 0.9509\n",
            "Epoch: 3/15.. training_loss: 0.1495 validation loss: 0.1411  validation accuracy: 0.9575\n",
            "Epoch: 3/15.. training_loss: 0.1421 validation loss: 0.1347  validation accuracy: 0.9568\n",
            "Epoch: 3/15.. training_loss: 0.1269 validation loss: 0.1281  validation accuracy: 0.9583\n",
            "Epoch: 4/15.. training_loss: 0.1264 validation loss: 0.1250  validation accuracy: 0.9601\n",
            "Epoch: 4/15.. training_loss: 0.1295 validation loss: 0.1387  validation accuracy: 0.9554\n",
            "Epoch: 4/15.. training_loss: 0.1331 validation loss: 0.1403  validation accuracy: 0.9553\n",
            "Epoch: 4/15.. training_loss: 0.1289 validation loss: 0.1252  validation accuracy: 0.9605\n",
            "Epoch: 4/15.. training_loss: 0.1209 validation loss: 0.1180  validation accuracy: 0.9608\n",
            "Epoch: 4/15.. training_loss: 0.1415 validation loss: 0.1346  validation accuracy: 0.9558\n",
            "Epoch: 4/15.. training_loss: 0.1300 validation loss: 0.1170  validation accuracy: 0.9626\n",
            "Epoch: 4/15.. training_loss: 0.1239 validation loss: 0.1058  validation accuracy: 0.9649\n",
            "Epoch: 4/15.. training_loss: 0.1435 validation loss: 0.1382  validation accuracy: 0.9570\n",
            "Epoch: 4/15.. training_loss: 0.1431 validation loss: 0.1074  validation accuracy: 0.9661\n",
            "Epoch: 4/15.. training_loss: 0.1456 validation loss: 0.1121  validation accuracy: 0.9637\n",
            "Epoch: 4/15.. training_loss: 0.1326 validation loss: 0.1158  validation accuracy: 0.9646\n",
            "Epoch: 4/15.. training_loss: 0.1491 validation loss: 0.1074  validation accuracy: 0.9674\n",
            "Epoch: 4/15.. training_loss: 0.1317 validation loss: 0.1347  validation accuracy: 0.9556\n",
            "Epoch: 4/15.. training_loss: 0.1354 validation loss: 0.1202  validation accuracy: 0.9617\n",
            "Epoch: 4/15.. training_loss: 0.1300 validation loss: 0.1045  validation accuracy: 0.9677\n",
            "Epoch: 4/15.. training_loss: 0.1325 validation loss: 0.1190  validation accuracy: 0.9631\n",
            "Epoch: 4/15.. training_loss: 0.1244 validation loss: 0.1024  validation accuracy: 0.9671\n",
            "Epoch: 4/15.. training_loss: 0.1163 validation loss: 0.1135  validation accuracy: 0.9637\n",
            "Epoch: 4/15.. training_loss: 0.1234 validation loss: 0.1090  validation accuracy: 0.9666\n",
            "Epoch: 5/15.. training_loss: 0.1329 validation loss: 0.1144  validation accuracy: 0.9639\n",
            "Epoch: 5/15.. training_loss: 0.1175 validation loss: 0.1318  validation accuracy: 0.9572\n",
            "Epoch: 5/15.. training_loss: 0.1075 validation loss: 0.1083  validation accuracy: 0.9652\n",
            "Epoch: 5/15.. training_loss: 0.1120 validation loss: 0.1129  validation accuracy: 0.9640\n",
            "Epoch: 5/15.. training_loss: 0.1162 validation loss: 0.1106  validation accuracy: 0.9630\n",
            "Epoch: 5/15.. training_loss: 0.1115 validation loss: 0.1134  validation accuracy: 0.9649\n",
            "Epoch: 5/15.. training_loss: 0.1316 validation loss: 0.0990  validation accuracy: 0.9690\n",
            "Epoch: 5/15.. training_loss: 0.1227 validation loss: 0.0948  validation accuracy: 0.9693\n",
            "Epoch: 5/15.. training_loss: 0.1141 validation loss: 0.1077  validation accuracy: 0.9646\n",
            "Epoch: 5/15.. training_loss: 0.1252 validation loss: 0.0944  validation accuracy: 0.9691\n",
            "Epoch: 5/15.. training_loss: 0.1181 validation loss: 0.1119  validation accuracy: 0.9632\n",
            "Epoch: 5/15.. training_loss: 0.1318 validation loss: 0.1022  validation accuracy: 0.9671\n",
            "Epoch: 5/15.. training_loss: 0.1057 validation loss: 0.1066  validation accuracy: 0.9651\n",
            "Epoch: 5/15.. training_loss: 0.1065 validation loss: 0.0973  validation accuracy: 0.9679\n",
            "Epoch: 5/15.. training_loss: 0.1126 validation loss: 0.1026  validation accuracy: 0.9653\n",
            "Epoch: 5/15.. training_loss: 0.1146 validation loss: 0.0940  validation accuracy: 0.9682\n",
            "Epoch: 5/15.. training_loss: 0.1221 validation loss: 0.1028  validation accuracy: 0.9667\n",
            "Epoch: 5/15.. training_loss: 0.1087 validation loss: 0.1045  validation accuracy: 0.9654\n",
            "Epoch: 5/15.. training_loss: 0.1224 validation loss: 0.1211  validation accuracy: 0.9618\n",
            "Epoch: 5/15.. training_loss: 0.1121 validation loss: 0.1047  validation accuracy: 0.9665\n",
            "Epoch: 6/15.. training_loss: 0.0900 validation loss: 0.0918  validation accuracy: 0.9714\n",
            "Epoch: 6/15.. training_loss: 0.1079 validation loss: 0.1008  validation accuracy: 0.9678\n",
            "Epoch: 6/15.. training_loss: 0.1119 validation loss: 0.0881  validation accuracy: 0.9713\n",
            "Epoch: 6/15.. training_loss: 0.1195 validation loss: 0.0994  validation accuracy: 0.9672\n",
            "Epoch: 6/15.. training_loss: 0.0998 validation loss: 0.0914  validation accuracy: 0.9699\n",
            "Epoch: 6/15.. training_loss: 0.1136 validation loss: 0.0989  validation accuracy: 0.9688\n",
            "Epoch: 6/15.. training_loss: 0.1099 validation loss: 0.1295  validation accuracy: 0.9581\n",
            "Epoch: 6/15.. training_loss: 0.1019 validation loss: 0.0937  validation accuracy: 0.9699\n",
            "Epoch: 6/15.. training_loss: 0.0924 validation loss: 0.0958  validation accuracy: 0.9678\n",
            "Epoch: 6/15.. training_loss: 0.1043 validation loss: 0.1109  validation accuracy: 0.9627\n",
            "Epoch: 6/15.. training_loss: 0.1165 validation loss: 0.1138  validation accuracy: 0.9636\n",
            "Epoch: 6/15.. training_loss: 0.1151 validation loss: 0.0975  validation accuracy: 0.9683\n",
            "Epoch: 6/15.. training_loss: 0.0999 validation loss: 0.0888  validation accuracy: 0.9726\n",
            "Epoch: 6/15.. training_loss: 0.1152 validation loss: 0.0914  validation accuracy: 0.9700\n",
            "Epoch: 6/15.. training_loss: 0.1037 validation loss: 0.0994  validation accuracy: 0.9676\n",
            "Epoch: 6/15.. training_loss: 0.0997 validation loss: 0.0990  validation accuracy: 0.9700\n",
            "Epoch: 6/15.. training_loss: 0.1107 validation loss: 0.0885  validation accuracy: 0.9709\n",
            "Epoch: 6/15.. training_loss: 0.1011 validation loss: 0.0889  validation accuracy: 0.9711\n",
            "Epoch: 6/15.. training_loss: 0.1082 validation loss: 0.0924  validation accuracy: 0.9709\n",
            "Epoch: 6/15.. training_loss: 0.1238 validation loss: 0.1014  validation accuracy: 0.9673\n",
            "Epoch: 7/15.. training_loss: 0.1008 validation loss: 0.0961  validation accuracy: 0.9700\n",
            "Epoch: 7/15.. training_loss: 0.0928 validation loss: 0.0831  validation accuracy: 0.9737\n",
            "Epoch: 7/15.. training_loss: 0.0987 validation loss: 0.0921  validation accuracy: 0.9706\n",
            "Epoch: 7/15.. training_loss: 0.1005 validation loss: 0.1001  validation accuracy: 0.9682\n",
            "Epoch: 7/15.. training_loss: 0.1005 validation loss: 0.0952  validation accuracy: 0.9698\n",
            "Epoch: 7/15.. training_loss: 0.0864 validation loss: 0.0931  validation accuracy: 0.9705\n",
            "Epoch: 7/15.. training_loss: 0.0903 validation loss: 0.0995  validation accuracy: 0.9685\n",
            "Epoch: 7/15.. training_loss: 0.1065 validation loss: 0.0858  validation accuracy: 0.9733\n",
            "Epoch: 7/15.. training_loss: 0.0926 validation loss: 0.0857  validation accuracy: 0.9717\n",
            "Epoch: 7/15.. training_loss: 0.0999 validation loss: 0.0886  validation accuracy: 0.9703\n",
            "Epoch: 7/15.. training_loss: 0.0950 validation loss: 0.1012  validation accuracy: 0.9666\n",
            "Epoch: 7/15.. training_loss: 0.1204 validation loss: 0.0847  validation accuracy: 0.9725\n",
            "Epoch: 7/15.. training_loss: 0.1063 validation loss: 0.0973  validation accuracy: 0.9664\n",
            "Epoch: 7/15.. training_loss: 0.1040 validation loss: 0.0946  validation accuracy: 0.9687\n",
            "Epoch: 7/15.. training_loss: 0.0990 validation loss: 0.0956  validation accuracy: 0.9701\n",
            "Epoch: 7/15.. training_loss: 0.1117 validation loss: 0.0945  validation accuracy: 0.9682\n",
            "Epoch: 7/15.. training_loss: 0.0981 validation loss: 0.0788  validation accuracy: 0.9755\n",
            "Epoch: 7/15.. training_loss: 0.0878 validation loss: 0.0858  validation accuracy: 0.9731\n",
            "Epoch: 7/15.. training_loss: 0.1035 validation loss: 0.0964  validation accuracy: 0.9704\n",
            "Epoch: 7/15.. training_loss: 0.0943 validation loss: 0.0834  validation accuracy: 0.9729\n",
            "Epoch: 8/15.. training_loss: 0.0913 validation loss: 0.0798  validation accuracy: 0.9739\n",
            "Epoch: 8/15.. training_loss: 0.0943 validation loss: 0.0755  validation accuracy: 0.9757\n",
            "Epoch: 8/15.. training_loss: 0.0950 validation loss: 0.0902  validation accuracy: 0.9707\n",
            "Epoch: 8/15.. training_loss: 0.0859 validation loss: 0.0826  validation accuracy: 0.9746\n",
            "Epoch: 8/15.. training_loss: 0.0949 validation loss: 0.0959  validation accuracy: 0.9695\n",
            "Epoch: 8/15.. training_loss: 0.0877 validation loss: 0.0925  validation accuracy: 0.9692\n",
            "Epoch: 8/15.. training_loss: 0.0898 validation loss: 0.0968  validation accuracy: 0.9684\n",
            "Epoch: 8/15.. training_loss: 0.0781 validation loss: 0.0773  validation accuracy: 0.9758\n",
            "Epoch: 8/15.. training_loss: 0.0887 validation loss: 0.0776  validation accuracy: 0.9747\n",
            "Epoch: 8/15.. training_loss: 0.1119 validation loss: 0.0845  validation accuracy: 0.9721\n",
            "Epoch: 8/15.. training_loss: 0.0785 validation loss: 0.0909  validation accuracy: 0.9699\n",
            "Epoch: 8/15.. training_loss: 0.0913 validation loss: 0.0843  validation accuracy: 0.9727\n",
            "Epoch: 8/15.. training_loss: 0.0881 validation loss: 0.0887  validation accuracy: 0.9711\n",
            "Epoch: 8/15.. training_loss: 0.1116 validation loss: 0.0831  validation accuracy: 0.9730\n",
            "Epoch: 8/15.. training_loss: 0.0949 validation loss: 0.0861  validation accuracy: 0.9720\n",
            "Epoch: 8/15.. training_loss: 0.0924 validation loss: 0.0934  validation accuracy: 0.9696\n",
            "Epoch: 8/15.. training_loss: 0.0784 validation loss: 0.0965  validation accuracy: 0.9693\n",
            "Epoch: 8/15.. training_loss: 0.1099 validation loss: 0.1245  validation accuracy: 0.9588\n",
            "Epoch: 8/15.. training_loss: 0.1037 validation loss: 0.0862  validation accuracy: 0.9715\n",
            "Epoch: 8/15.. training_loss: 0.1167 validation loss: 0.1021  validation accuracy: 0.9652\n",
            "Epoch: 9/15.. training_loss: 0.0757 validation loss: 0.0907  validation accuracy: 0.9719\n",
            "Epoch: 9/15.. training_loss: 0.0816 validation loss: 0.0829  validation accuracy: 0.9743\n",
            "Epoch: 9/15.. training_loss: 0.0744 validation loss: 0.0788  validation accuracy: 0.9758\n",
            "Epoch: 9/15.. training_loss: 0.0841 validation loss: 0.0771  validation accuracy: 0.9761\n",
            "Epoch: 9/15.. training_loss: 0.0751 validation loss: 0.0780  validation accuracy: 0.9759\n",
            "Epoch: 9/15.. training_loss: 0.0906 validation loss: 0.0825  validation accuracy: 0.9742\n",
            "Epoch: 9/15.. training_loss: 0.1025 validation loss: 0.0891  validation accuracy: 0.9734\n",
            "Epoch: 9/15.. training_loss: 0.0887 validation loss: 0.0815  validation accuracy: 0.9725\n",
            "Epoch: 9/15.. training_loss: 0.0883 validation loss: 0.0967  validation accuracy: 0.9687\n",
            "Epoch: 9/15.. training_loss: 0.0911 validation loss: 0.0826  validation accuracy: 0.9730\n",
            "Epoch: 9/15.. training_loss: 0.0739 validation loss: 0.0926  validation accuracy: 0.9700\n",
            "Epoch: 9/15.. training_loss: 0.0794 validation loss: 0.0763  validation accuracy: 0.9757\n",
            "Epoch: 9/15.. training_loss: 0.0853 validation loss: 0.0785  validation accuracy: 0.9753\n",
            "Epoch: 9/15.. training_loss: 0.0832 validation loss: 0.0811  validation accuracy: 0.9737\n",
            "Epoch: 9/15.. training_loss: 0.0811 validation loss: 0.0790  validation accuracy: 0.9742\n",
            "Epoch: 9/15.. training_loss: 0.0907 validation loss: 0.0842  validation accuracy: 0.9730\n",
            "Epoch: 9/15.. training_loss: 0.1069 validation loss: 0.0765  validation accuracy: 0.9751\n",
            "Epoch: 9/15.. training_loss: 0.0846 validation loss: 0.0751  validation accuracy: 0.9771\n",
            "Epoch: 9/15.. training_loss: 0.0843 validation loss: 0.1018  validation accuracy: 0.9673\n",
            "Epoch: 9/15.. training_loss: 0.0918 validation loss: 0.0740  validation accuracy: 0.9762\n",
            "Epoch: 10/15.. training_loss: 0.0772 validation loss: 0.0716  validation accuracy: 0.9751\n",
            "Epoch: 10/15.. training_loss: 0.0671 validation loss: 0.0803  validation accuracy: 0.9727\n",
            "Epoch: 10/15.. training_loss: 0.0808 validation loss: 0.0820  validation accuracy: 0.9733\n",
            "Epoch: 10/15.. training_loss: 0.0712 validation loss: 0.0795  validation accuracy: 0.9732\n",
            "Epoch: 10/15.. training_loss: 0.0740 validation loss: 0.0732  validation accuracy: 0.9751\n",
            "Epoch: 10/15.. training_loss: 0.0746 validation loss: 0.0763  validation accuracy: 0.9752\n",
            "Epoch: 10/15.. training_loss: 0.0932 validation loss: 0.0869  validation accuracy: 0.9707\n",
            "Epoch: 10/15.. training_loss: 0.0883 validation loss: 0.0767  validation accuracy: 0.9754\n",
            "Epoch: 10/15.. training_loss: 0.0913 validation loss: 0.0853  validation accuracy: 0.9717\n",
            "Epoch: 10/15.. training_loss: 0.0890 validation loss: 0.0684  validation accuracy: 0.9776\n",
            "Epoch: 10/15.. training_loss: 0.0845 validation loss: 0.0705  validation accuracy: 0.9772\n",
            "Epoch: 10/15.. training_loss: 0.0818 validation loss: 0.0805  validation accuracy: 0.9720\n",
            "Epoch: 10/15.. training_loss: 0.0853 validation loss: 0.0735  validation accuracy: 0.9762\n",
            "Epoch: 10/15.. training_loss: 0.0961 validation loss: 0.0798  validation accuracy: 0.9725\n",
            "Epoch: 10/15.. training_loss: 0.0756 validation loss: 0.0737  validation accuracy: 0.9766\n",
            "Epoch: 10/15.. training_loss: 0.0777 validation loss: 0.0806  validation accuracy: 0.9727\n",
            "Epoch: 10/15.. training_loss: 0.0879 validation loss: 0.0791  validation accuracy: 0.9742\n",
            "Epoch: 10/15.. training_loss: 0.0803 validation loss: 0.0851  validation accuracy: 0.9721\n",
            "Epoch: 10/15.. training_loss: 0.0743 validation loss: 0.0677  validation accuracy: 0.9781\n",
            "Epoch: 10/15.. training_loss: 0.0970 validation loss: 0.0855  validation accuracy: 0.9730\n",
            "Epoch: 11/15.. training_loss: 0.0856 validation loss: 0.0799  validation accuracy: 0.9746\n",
            "Epoch: 11/15.. training_loss: 0.0724 validation loss: 0.0806  validation accuracy: 0.9734\n",
            "Epoch: 11/15.. training_loss: 0.0817 validation loss: 0.0679  validation accuracy: 0.9776\n",
            "Epoch: 11/15.. training_loss: 0.0672 validation loss: 0.0673  validation accuracy: 0.9775\n",
            "Epoch: 11/15.. training_loss: 0.0865 validation loss: 0.0817  validation accuracy: 0.9736\n",
            "Epoch: 11/15.. training_loss: 0.0842 validation loss: 0.0798  validation accuracy: 0.9750\n",
            "Epoch: 11/15.. training_loss: 0.0846 validation loss: 0.0961  validation accuracy: 0.9690\n",
            "Epoch: 11/15.. training_loss: 0.0868 validation loss: 0.0807  validation accuracy: 0.9740\n",
            "Epoch: 11/15.. training_loss: 0.0714 validation loss: 0.0707  validation accuracy: 0.9767\n",
            "Epoch: 11/15.. training_loss: 0.0853 validation loss: 0.0803  validation accuracy: 0.9733\n",
            "Epoch: 11/15.. training_loss: 0.0730 validation loss: 0.0789  validation accuracy: 0.9746\n",
            "Epoch: 11/15.. training_loss: 0.0816 validation loss: 0.0867  validation accuracy: 0.9725\n",
            "Epoch: 11/15.. training_loss: 0.0857 validation loss: 0.0744  validation accuracy: 0.9759\n",
            "Epoch: 11/15.. training_loss: 0.0752 validation loss: 0.0695  validation accuracy: 0.9777\n",
            "Epoch: 11/15.. training_loss: 0.0750 validation loss: 0.0769  validation accuracy: 0.9754\n",
            "Epoch: 11/15.. training_loss: 0.0820 validation loss: 0.0725  validation accuracy: 0.9760\n",
            "Epoch: 11/15.. training_loss: 0.0796 validation loss: 0.0749  validation accuracy: 0.9747\n",
            "Epoch: 11/15.. training_loss: 0.0836 validation loss: 0.0777  validation accuracy: 0.9758\n",
            "Epoch: 11/15.. training_loss: 0.0806 validation loss: 0.0792  validation accuracy: 0.9754\n",
            "Epoch: 11/15.. training_loss: 0.0675 validation loss: 0.0706  validation accuracy: 0.9775\n",
            "Epoch: 12/15.. training_loss: 0.0704 validation loss: 0.0698  validation accuracy: 0.9778\n",
            "Epoch: 12/15.. training_loss: 0.0613 validation loss: 0.0764  validation accuracy: 0.9758\n",
            "Epoch: 12/15.. training_loss: 0.0699 validation loss: 0.0817  validation accuracy: 0.9732\n",
            "Epoch: 12/15.. training_loss: 0.0765 validation loss: 0.0764  validation accuracy: 0.9758\n",
            "Epoch: 12/15.. training_loss: 0.0707 validation loss: 0.0779  validation accuracy: 0.9757\n",
            "Epoch: 12/15.. training_loss: 0.0756 validation loss: 0.0703  validation accuracy: 0.9772\n",
            "Epoch: 12/15.. training_loss: 0.0796 validation loss: 0.0798  validation accuracy: 0.9748\n",
            "Epoch: 12/15.. training_loss: 0.0862 validation loss: 0.0782  validation accuracy: 0.9753\n",
            "Epoch: 12/15.. training_loss: 0.0749 validation loss: 0.0710  validation accuracy: 0.9778\n",
            "Epoch: 12/15.. training_loss: 0.0789 validation loss: 0.0871  validation accuracy: 0.9726\n",
            "Epoch: 12/15.. training_loss: 0.0773 validation loss: 0.0843  validation accuracy: 0.9729\n",
            "Epoch: 12/15.. training_loss: 0.0711 validation loss: 0.0769  validation accuracy: 0.9743\n",
            "Epoch: 12/15.. training_loss: 0.0796 validation loss: 0.0772  validation accuracy: 0.9754\n",
            "Epoch: 12/15.. training_loss: 0.0709 validation loss: 0.0741  validation accuracy: 0.9770\n",
            "Epoch: 12/15.. training_loss: 0.0736 validation loss: 0.0759  validation accuracy: 0.9768\n",
            "Epoch: 12/15.. training_loss: 0.0704 validation loss: 0.0724  validation accuracy: 0.9769\n",
            "Epoch: 12/15.. training_loss: 0.0762 validation loss: 0.0844  validation accuracy: 0.9722\n",
            "Epoch: 12/15.. training_loss: 0.0739 validation loss: 0.0739  validation accuracy: 0.9751\n",
            "Epoch: 12/15.. training_loss: 0.0756 validation loss: 0.0752  validation accuracy: 0.9774\n",
            "Epoch: 12/15.. training_loss: 0.0742 validation loss: 0.0791  validation accuracy: 0.9745\n",
            "Epoch: 13/15.. training_loss: 0.0812 validation loss: 0.0978  validation accuracy: 0.9682\n",
            "Epoch: 13/15.. training_loss: 0.0704 validation loss: 0.0785  validation accuracy: 0.9756\n",
            "Epoch: 13/15.. training_loss: 0.0771 validation loss: 0.0753  validation accuracy: 0.9771\n",
            "Epoch: 13/15.. training_loss: 0.0872 validation loss: 0.0806  validation accuracy: 0.9745\n",
            "Epoch: 13/15.. training_loss: 0.0794 validation loss: 0.0785  validation accuracy: 0.9763\n",
            "Epoch: 13/15.. training_loss: 0.0675 validation loss: 0.0778  validation accuracy: 0.9738\n",
            "Epoch: 13/15.. training_loss: 0.0803 validation loss: 0.0923  validation accuracy: 0.9698\n",
            "Epoch: 13/15.. training_loss: 0.0722 validation loss: 0.0776  validation accuracy: 0.9743\n",
            "Epoch: 13/15.. training_loss: 0.0746 validation loss: 0.0767  validation accuracy: 0.9756\n",
            "Epoch: 13/15.. training_loss: 0.0685 validation loss: 0.0798  validation accuracy: 0.9744\n",
            "Epoch: 13/15.. training_loss: 0.0728 validation loss: 0.0804  validation accuracy: 0.9742\n",
            "Epoch: 13/15.. training_loss: 0.0852 validation loss: 0.0852  validation accuracy: 0.9719\n",
            "Epoch: 13/15.. training_loss: 0.0724 validation loss: 0.0713  validation accuracy: 0.9779\n",
            "Epoch: 13/15.. training_loss: 0.0687 validation loss: 0.0784  validation accuracy: 0.9738\n",
            "Epoch: 13/15.. training_loss: 0.0757 validation loss: 0.0659  validation accuracy: 0.9774\n",
            "Epoch: 13/15.. training_loss: 0.0732 validation loss: 0.0752  validation accuracy: 0.9761\n",
            "Epoch: 13/15.. training_loss: 0.0601 validation loss: 0.0795  validation accuracy: 0.9736\n",
            "Epoch: 13/15.. training_loss: 0.0781 validation loss: 0.0718  validation accuracy: 0.9767\n",
            "Epoch: 13/15.. training_loss: 0.0662 validation loss: 0.0830  validation accuracy: 0.9740\n",
            "Epoch: 13/15.. training_loss: 0.0800 validation loss: 0.0729  validation accuracy: 0.9774\n",
            "Epoch: 14/15.. training_loss: 0.0649 validation loss: 0.0833  validation accuracy: 0.9727\n",
            "Epoch: 14/15.. training_loss: 0.0650 validation loss: 0.0842  validation accuracy: 0.9725\n",
            "Epoch: 14/15.. training_loss: 0.0730 validation loss: 0.0648  validation accuracy: 0.9784\n",
            "Epoch: 14/15.. training_loss: 0.0652 validation loss: 0.0814  validation accuracy: 0.9740\n",
            "Epoch: 14/15.. training_loss: 0.0630 validation loss: 0.0717  validation accuracy: 0.9760\n",
            "Epoch: 14/15.. training_loss: 0.0567 validation loss: 0.0687  validation accuracy: 0.9781\n",
            "Epoch: 14/15.. training_loss: 0.0638 validation loss: 0.0728  validation accuracy: 0.9776\n",
            "Epoch: 14/15.. training_loss: 0.0737 validation loss: 0.0786  validation accuracy: 0.9750\n",
            "Epoch: 14/15.. training_loss: 0.0516 validation loss: 0.0734  validation accuracy: 0.9768\n",
            "Epoch: 14/15.. training_loss: 0.0679 validation loss: 0.0705  validation accuracy: 0.9770\n",
            "Epoch: 14/15.. training_loss: 0.0638 validation loss: 0.0710  validation accuracy: 0.9773\n",
            "Epoch: 14/15.. training_loss: 0.0754 validation loss: 0.0786  validation accuracy: 0.9757\n",
            "Epoch: 14/15.. training_loss: 0.0796 validation loss: 0.0765  validation accuracy: 0.9773\n",
            "Epoch: 14/15.. training_loss: 0.0706 validation loss: 0.0765  validation accuracy: 0.9763\n",
            "Epoch: 14/15.. training_loss: 0.0618 validation loss: 0.0758  validation accuracy: 0.9762\n",
            "Epoch: 14/15.. training_loss: 0.0713 validation loss: 0.0747  validation accuracy: 0.9757\n",
            "Epoch: 14/15.. training_loss: 0.0767 validation loss: 0.0620  validation accuracy: 0.9805\n",
            "Epoch: 14/15.. training_loss: 0.0769 validation loss: 0.0686  validation accuracy: 0.9789\n",
            "Epoch: 14/15.. training_loss: 0.0773 validation loss: 0.0771  validation accuracy: 0.9749\n",
            "Epoch: 14/15.. training_loss: 0.0709 validation loss: 0.0661  validation accuracy: 0.9785\n",
            "Epoch: 15/15.. training_loss: 0.0442 validation loss: 0.0720  validation accuracy: 0.9779\n",
            "Epoch: 15/15.. training_loss: 0.0550 validation loss: 0.0717  validation accuracy: 0.9761\n",
            "Epoch: 15/15.. training_loss: 0.0594 validation loss: 0.0696  validation accuracy: 0.9766\n",
            "Epoch: 15/15.. training_loss: 0.0606 validation loss: 0.0985  validation accuracy: 0.9693\n",
            "Epoch: 15/15.. training_loss: 0.0681 validation loss: 0.0682  validation accuracy: 0.9782\n",
            "Epoch: 15/15.. training_loss: 0.0795 validation loss: 0.0750  validation accuracy: 0.9765\n",
            "Epoch: 15/15.. training_loss: 0.0720 validation loss: 0.0710  validation accuracy: 0.9775\n",
            "Epoch: 15/15.. training_loss: 0.0723 validation loss: 0.0638  validation accuracy: 0.9797\n",
            "Epoch: 15/15.. training_loss: 0.0540 validation loss: 0.0707  validation accuracy: 0.9768\n",
            "Epoch: 15/15.. training_loss: 0.0883 validation loss: 0.0692  validation accuracy: 0.9777\n",
            "Epoch: 15/15.. training_loss: 0.0712 validation loss: 0.0805  validation accuracy: 0.9740\n",
            "Epoch: 15/15.. training_loss: 0.0576 validation loss: 0.0697  validation accuracy: 0.9782\n",
            "Epoch: 15/15.. training_loss: 0.0650 validation loss: 0.0656  validation accuracy: 0.9787\n",
            "Epoch: 15/15.. training_loss: 0.0753 validation loss: 0.0669  validation accuracy: 0.9808\n",
            "Epoch: 15/15.. training_loss: 0.0669 validation loss: 0.0625  validation accuracy: 0.9811\n",
            "Epoch: 15/15.. training_loss: 0.0660 validation loss: 0.0730  validation accuracy: 0.9776\n",
            "Epoch: 15/15.. training_loss: 0.0755 validation loss: 0.0698  validation accuracy: 0.9776\n",
            "Epoch: 15/15.. training_loss: 0.0618 validation loss: 0.0680  validation accuracy: 0.9789\n",
            "Epoch: 15/15.. training_loss: 0.0696 validation loss: 0.0667  validation accuracy: 0.9787\n",
            "Epoch: 15/15.. training_loss: 0.0615 validation loss: 0.0723  validation accuracy: 0.9778\n"
          ],
          "name": "stdout"
        },
        {
          "output_type": "display_data",
          "data": {
            "image/png": "[encoded data removed]",
            "text/plain": [
              "<Figure size 576x396 with 1 Axes>"
            ]
          },
          "metadata": {
            "tags": []
          }
        }
      ]
    },
    {
      "metadata": {
        "id": "txNVfPxSsNiv",
        "colab_type": "code",
        "outputId": "889636ab-7e47-478f-a118-4e6298949528",
        "colab": {
          "base_uri": "https://localhost:8080/",
          "height": 379
        }
      },
      "cell_type": "code",
      "source": [
        "class_label_map = {0: \"zero\", 1: \"One\", 2: \"Two\", 3: \"Three\", 4: \"Four\", 5: \"Five\", 6: \"Six\", 7: \"Seven\", 8: \"Eight\", 9: \"Nine\" }\n",
        " \n",
        "\n",
        "def predict(loader, model, key):\n",
        "  \n",
        "  image, labels = next(iter(loader))\n",
        "  img, lbl = image[key], labels[key]\n",
        "  \n",
        "  lbl = lbl.item()\n",
        "  \n",
        "  plt.imshow(transforms.ToPILImage()(img), interpolation=\"bicubic\")\n",
        "  plt.title(class_label_map[lbl])\n",
        "  \n",
        "  model.eval()\n",
        "  model.cpu()\n",
        "  \n",
        "  out = net.forward(img.unsqueeze_(0))\n",
        "  ps = torch.exp(out)\n",
        "  \n",
        "  ps, pred = ps.max(dim=1)\n",
        "  pred = pred.item()\n",
        "  predicted_label = class_label_map[pred]\n",
        "  \n",
        "    \n",
        "  return predicted_label\n",
        "\n",
        "pred_label = predict(loader=testloader, model=net, key=55)\n",
        "print(f'Model Prediction: {pred_label}')"
      ],
      "execution_count": 0,
      "outputs": [
        {
          "output_type": "stream",
          "text": [
            "Model Prediction: zero\n"
          ],
          "name": "stdout"
        },
        {
          "output_type": "display_data",
          "data": {
            "image/png": "[encoded data removed]",
            "text/plain": [
              "<Figure size 576x396 with 1 Axes>"
            ]
          },
          "metadata": {
            "tags": []
          }
        }
      ]
    },
    {
      "metadata": {
        "id": "jZMSdkZ-xD3c",
        "colab_type": "code",
        "colab": {}
      },
      "cell_type": "code",
      "source": [
        ""
      ],
      "execution_count": 0,
      "outputs": []
    }
  ]
}